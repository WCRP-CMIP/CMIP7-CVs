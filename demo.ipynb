{
 "cells": [
  {
   "cell_type": "code",
   "execution_count": 19,
   "id": "66623c46",
   "metadata": {},
   "outputs": [
    {
     "data": {
      "text/plain": [
       "{'@context': 'cmip7:experiment/1pctco2-rad',\n",
       " 'id': 'cmip7:experiment/1pctco2-rad',\n",
       " 'type': ['wcrp:experiment', 'cmip7'],\n",
       " 'description': 'Radiatively-coupled version of 1 percent per year CO2 increase experiment'}"
      ]
     },
     "execution_count": 19,
     "metadata": {},
     "output_type": "execute_result"
    }
   ],
   "source": [
    "e = 'cmip7:experiment/1pctco2-rad'\n",
    "import cmipld\n",
    "# cmipld.get(e)\n",
    "cmipld.frame(e,{\"@context\":e,'description':'',\"@explicit\":True})\n"
   ]
  },
  {
   "cell_type": "code",
   "execution_count": 13,
   "id": "a5175864",
   "metadata": {},
   "outputs": [
    {
     "name": "stdout",
     "output_type": "stream",
     "text": [
      "make test for url2io\n"
     ]
    },
    {
     "data": {
      "text/html": [
       "<pre style=\"white-space:pre;overflow-x:auto;line-height:normal;font-family:Menlo,'DejaVu Sans Mono',consolas,'Courier New',monospace\">                            <span style=\"color: #000080; text-decoration-color: #000080\">╭─────────────────── </span><span style=\"color: #808000; text-decoration-color: #808000; font-weight: bold\">Repository Info</span><span style=\"color: #000080; text-decoration-color: #000080\"> ────────────────────╮</span>                             \n",
       "                            <span style=\"color: #000080; text-decoration-color: #000080\">│</span>                  <span style=\"color: #008080; text-decoration-color: #008080; font-weight: bold\">Parsing repo:</span> cmip7                   <span style=\"color: #000080; text-decoration-color: #000080\">│</span>                             \n",
       "                            <span style=\"color: #000080; text-decoration-color: #000080\">│</span>    <span style=\"color: #800080; text-decoration-color: #800080; font-weight: bold\">Location:</span> https://github.com/WCRP-CMIP/CMIP7-CVs    <span style=\"color: #000080; text-decoration-color: #000080\">│</span>                             \n",
       "                            <span style=\"color: #000080; text-decoration-color: #000080\">│</span> <span style=\"color: #800000; text-decoration-color: #800000; font-weight: bold\">Github IO link:</span> https://wcrp-cmip.github.io/CMIP7-CVs/ <span style=\"color: #000080; text-decoration-color: #000080\">│</span>                             \n",
       "                            <span style=\"color: #000080; text-decoration-color: #000080\">╰────────────────────────────────────────────────────────╯</span>                             \n",
       "</pre>\n"
      ],
      "text/plain": [
       "                            \u001b[34m╭─\u001b[0m\u001b[34m──────────────────\u001b[0m\u001b[34m \u001b[0m\u001b[1;33mRepository Info\u001b[0m\u001b[34m \u001b[0m\u001b[34m───────────────────\u001b[0m\u001b[34m─╮\u001b[0m                             \n",
       "                            \u001b[34m│\u001b[0m                  \u001b[1;36mParsing repo:\u001b[0m cmip7                   \u001b[34m│\u001b[0m                             \n",
       "                            \u001b[34m│\u001b[0m    \u001b[1;35mLocation:\u001b[0m https://github.com/WCRP-CMIP/CMIP7-CVs    \u001b[34m│\u001b[0m                             \n",
       "                            \u001b[34m│\u001b[0m \u001b[1;31mGithub IO link:\u001b[0m https://wcrp-cmip.github.io/CMIP7-CVs/ \u001b[34m│\u001b[0m                             \n",
       "                            \u001b[34m╰────────────────────────────────────────────────────────╯\u001b[0m                             \n"
      ]
     },
     "metadata": {},
     "output_type": "display_data"
    },
    {
     "name": "stdout",
     "output_type": "stream",
     "text": [
      "We should read all rep dependencies and pre-load them here.\n"
     ]
    },
    {
     "data": {
      "text/html": [
       "<pre style=\"white-space:pre;overflow-x:auto;line-height:normal;font-family:Menlo,'DejaVu Sans Mono',consolas,'Courier New',monospace\">Testing redirect with: <span style=\"color: #0000ff; text-decoration-color: #0000ff; text-decoration: underline\">http://wcrp-cmip.github.io/WCRP-universe/bob</span>\n",
       "</pre>\n"
      ],
      "text/plain": [
       "Testing redirect with: \u001b[4;94mhttp://wcrp-cmip.github.io/WCRP-universe/bob\u001b[0m\n"
      ]
     },
     "metadata": {},
     "output_type": "display_data"
    },
    {
     "name": "stdout",
     "output_type": "stream",
     "text": [
      "✓ Original URL: http://wcrp-cmip.github.io/WCRP-universe/bob\n",
      "✓ Final URL: https://wcrp-cmip.github.io/WCRP-universe/bob\n",
      "✓ Status Code: 404\n",
      "⚠ Response: <!DOCTYPE html>\n",
      "<html lang=\"en\">\n",
      "<head>\n",
      "  <meta charset=\"UTF-8\">\n",
      "  <title>Markdown Viewer</title>\n",
      "  <!-- Marked.js CDN for Markdown parsing -->\n",
      "  <script src=\"https://cdn.jsdelivr.net/npm/marked/marke...\n",
      "Added redirect: wcrp-cmip.github.io | ^(?!.*(_context_|\\.json(?:ld)?|\\/)$).* -> \\g<0>.json\n",
      "Added redirect: wcrp-cmip.github.io | ^https://wcrp-cmip.github.io/CMIP7-CVs/ -> http://localhost:54217/cmip7/\n"
     ]
    },
    {
     "data": {
      "text/html": [
       "<pre style=\"white-space:pre;overflow-x:auto;line-height:normal;font-family:Menlo,'DejaVu Sans Mono',consolas,'Courier New',monospace\"><span style=\"color: #008000; text-decoration-color: #008000\">╭─────────────────────────────────────────────── Prefix Resolvers ────────────────────────────────────────────────╮</span>\n",
       "<span style=\"color: #008000; text-decoration-color: #008000\">│</span> <span style=\"color: #008080; text-decoration-color: #008080\">cf</span>: https://wcrp-cmip.github.io/CF/                                                                             <span style=\"color: #008000; text-decoration-color: #008000\">│</span>\n",
       "<span style=\"color: #008000; text-decoration-color: #008000\">│</span> <span style=\"color: #008080; text-decoration-color: #008080\">cmip7</span>: https://wcrp-cmip.github.io/CMIP7-CVs/                                                                   <span style=\"color: #008000; text-decoration-color: #008000\">│</span>\n",
       "<span style=\"color: #008000; text-decoration-color: #008000\">│</span> <span style=\"color: #008080; text-decoration-color: #008080\">obs4mips</span>: https://wolfiex.github.io/obs4MIPs-cmor-tables-ld/                                                    <span style=\"color: #008000; text-decoration-color: #008000\">│</span>\n",
       "<span style=\"color: #008000; text-decoration-color: #008000\">│</span> <span style=\"color: #008080; text-decoration-color: #008080\">universal</span>: https://wcrp-cmip.github.io/WCRP-universe/                                                           <span style=\"color: #008000; text-decoration-color: #008000\">│</span>\n",
       "<span style=\"color: #008000; text-decoration-color: #008000\">│</span> <span style=\"color: #008080; text-decoration-color: #008080\">variables</span>: https://wcrp-cmip.github.io/MIP-variables/                                                           <span style=\"color: #008000; text-decoration-color: #008000\">│</span>\n",
       "<span style=\"color: #008000; text-decoration-color: #008000\">│</span> <span style=\"color: #008080; text-decoration-color: #008080\">cmip6plus</span>: https://wcrp-cmip.github.io/CMIP6Plus_CVs/                                                           <span style=\"color: #008000; text-decoration-color: #008000\">│</span>\n",
       "<span style=\"color: #008000; text-decoration-color: #008000\">╰─────────────────────────────────────────────────────────────────────────────────────────────────────────────────╯</span>\n",
       "</pre>\n"
      ],
      "text/plain": [
       "\u001b[32m╭─\u001b[0m\u001b[32m──────────────────────────────────────────────\u001b[0m\u001b[32m Prefix Resolvers \u001b[0m\u001b[32m───────────────────────────────────────────────\u001b[0m\u001b[32m─╮\u001b[0m\n",
       "\u001b[32m│\u001b[0m \u001b[36mcf\u001b[0m: https://wcrp-cmip.github.io/CF/                                                                             \u001b[32m│\u001b[0m\n",
       "\u001b[32m│\u001b[0m \u001b[36mcmip7\u001b[0m: https://wcrp-cmip.github.io/CMIP7-CVs/                                                                   \u001b[32m│\u001b[0m\n",
       "\u001b[32m│\u001b[0m \u001b[36mobs4mips\u001b[0m: https://wolfiex.github.io/obs4MIPs-cmor-tables-ld/                                                    \u001b[32m│\u001b[0m\n",
       "\u001b[32m│\u001b[0m \u001b[36muniversal\u001b[0m: https://wcrp-cmip.github.io/WCRP-universe/                                                           \u001b[32m│\u001b[0m\n",
       "\u001b[32m│\u001b[0m \u001b[36mvariables\u001b[0m: https://wcrp-cmip.github.io/MIP-variables/                                                           \u001b[32m│\u001b[0m\n",
       "\u001b[32m│\u001b[0m \u001b[36mcmip6plus\u001b[0m: https://wcrp-cmip.github.io/CMIP6Plus_CVs/                                                           \u001b[32m│\u001b[0m\n",
       "\u001b[32m╰─────────────────────────────────────────────────────────────────────────────────────────────────────────────────╯\u001b[0m\n"
      ]
     },
     "metadata": {},
     "output_type": "display_data"
    },
    {
     "data": {
      "text/html": [
       "<pre style=\"white-space:pre;overflow-x:auto;line-height:normal;font-family:Menlo,'DejaVu Sans Mono',consolas,'Courier New',monospace\"><span style=\"font-style: italic\">                                        Regex-Based URL Redirects (by Host)                                        </span>\n",
       "┏━━━━━━━━━━━━━━━━━━━━━━━━━━━━━━━━━━━━━━━━━━━┳━━━━━━━━━━━━━━━━━━━━━━━━━━━━━━━━━━━━━━━━━━━━━━━━━━━━━━━━━━━━━━━━━━━━━┓\n",
       "┃<span style=\"font-weight: bold\">                   Host                    </span>┃<span style=\"font-weight: bold\"> Rules                                                               </span>┃\n",
       "┡━━━━━━━━━━━━━━━━━━━━━━━━━━━━━━━━━━━━━━━━━━━╇━━━━━━━━━━━━━━━━━━━━━━━━━━━━━━━━━━━━━━━━━━━━━━━━━━━━━━━━━━━━━━━━━━━━━┩\n",
       "│<span style=\"color: #008080; text-decoration-color: #008080\"> ╭────────────────────────────╮            </span>│<span style=\"color: #800080; text-decoration-color: #800080\"> ╭─────────────────────────────────────────────────────────────────╮ </span>│\n",
       "│<span style=\"color: #008080; text-decoration-color: #008080\"> │    wcrp-cmip.github.io     │            </span>│<span style=\"color: #800080; text-decoration-color: #800080\"> │ </span><span style=\"color: #800080; text-decoration-color: #800080; font-weight: bold\">Match:</span><span style=\"color: #800080; text-decoration-color: #800080\"> ^(?!.*(_context_|\\.json(?:ld)?|\\/)$).*                   │ </span>│\n",
       "│<span style=\"color: #008080; text-decoration-color: #008080\"> ╰────────────────────────────╯            </span>│<span style=\"color: #800080; text-decoration-color: #800080\"> │ </span><span style=\"color: #800080; text-decoration-color: #800080; font-weight: bold\">Replace:</span><span style=\"color: #800080; text-decoration-color: #800080\"> \\g&lt;0&gt;.json                                             │ </span>│\n",
       "│<span style=\"color: #008080; text-decoration-color: #008080\">                                           </span>│<span style=\"color: #800080; text-decoration-color: #800080\"> ╰─────────────────────────────────────────────────────────────────╯ </span>│\n",
       "│<span style=\"color: #008080; text-decoration-color: #008080\">                                           </span>│<span style=\"color: #800080; text-decoration-color: #800080\"> ╭─────────────────────────────────────────────────────────────────╮ </span>│\n",
       "│<span style=\"color: #008080; text-decoration-color: #008080\">                                           </span>│<span style=\"color: #800080; text-decoration-color: #800080\"> │ </span><span style=\"color: #800080; text-decoration-color: #800080; font-weight: bold\">Match:</span><span style=\"color: #800080; text-decoration-color: #800080\"> ^https://wcrp-cmip.github.io/CMIP7-CVs/                  │ </span>│\n",
       "│<span style=\"color: #008080; text-decoration-color: #008080\">                                           </span>│<span style=\"color: #800080; text-decoration-color: #800080\"> │ </span><span style=\"color: #800080; text-decoration-color: #800080; font-weight: bold\">Replace:</span><span style=\"color: #800080; text-decoration-color: #800080\"> http://localhost:54217/cmip7/                          │ </span>│\n",
       "│<span style=\"color: #008080; text-decoration-color: #008080\">                                           </span>│<span style=\"color: #800080; text-decoration-color: #800080\"> ╰─────────────────────────────────────────────────────────────────╯ </span>│\n",
       "└───────────────────────────────────────────┴─────────────────────────────────────────────────────────────────────┘\n",
       "</pre>\n"
      ],
      "text/plain": [
       "\u001b[3m                                        Regex-Based URL Redirects (by Host)                                        \u001b[0m\n",
       "┏━━━━━━━━━━━━━━━━━━━━━━━━━━━━━━━━━━━━━━━━━━━┳━━━━━━━━━━━━━━━━━━━━━━━━━━━━━━━━━━━━━━━━━━━━━━━━━━━━━━━━━━━━━━━━━━━━━┓\n",
       "┃\u001b[1m \u001b[0m\u001b[1m                  Host                   \u001b[0m\u001b[1m \u001b[0m┃\u001b[1m \u001b[0m\u001b[1mRules                                                              \u001b[0m\u001b[1m \u001b[0m┃\n",
       "┡━━━━━━━━━━━━━━━━━━━━━━━━━━━━━━━━━━━━━━━━━━━╇━━━━━━━━━━━━━━━━━━━━━━━━━━━━━━━━━━━━━━━━━━━━━━━━━━━━━━━━━━━━━━━━━━━━━┩\n",
       "│\u001b[36m \u001b[0m\u001b[36m╭────────────────────────────╮\u001b[0m\u001b[36m           \u001b[0m\u001b[36m \u001b[0m│\u001b[35m \u001b[0m\u001b[35m╭─────────────────────────────────────────────────────────────────╮\u001b[0m\u001b[35m \u001b[0m│\n",
       "│\u001b[36m \u001b[0m\u001b[36m│\u001b[0m\u001b[36m \u001b[0m\u001b[36m   wcrp-cmip.github.io    \u001b[0m\u001b[36m \u001b[0m\u001b[36m│\u001b[0m\u001b[36m           \u001b[0m\u001b[36m \u001b[0m│\u001b[35m \u001b[0m\u001b[35m│\u001b[0m\u001b[35m \u001b[0m\u001b[1;35mMatch:\u001b[0m\u001b[35m ^(?!.*(_context_|\\.json(?:ld)?|\\/)$).*                  \u001b[0m\u001b[35m \u001b[0m\u001b[35m│\u001b[0m\u001b[35m \u001b[0m│\n",
       "│\u001b[36m \u001b[0m\u001b[36m╰────────────────────────────╯\u001b[0m\u001b[36m           \u001b[0m\u001b[36m \u001b[0m│\u001b[35m \u001b[0m\u001b[35m│\u001b[0m\u001b[35m \u001b[0m\u001b[1;35mReplace:\u001b[0m\u001b[35m \\g<0>.json                                            \u001b[0m\u001b[35m \u001b[0m\u001b[35m│\u001b[0m\u001b[35m \u001b[0m│\n",
       "│\u001b[36m                                           \u001b[0m│\u001b[35m \u001b[0m\u001b[35m╰─────────────────────────────────────────────────────────────────╯\u001b[0m\u001b[35m \u001b[0m│\n",
       "│\u001b[36m                                           \u001b[0m│\u001b[35m \u001b[0m\u001b[35m╭─────────────────────────────────────────────────────────────────╮\u001b[0m\u001b[35m \u001b[0m│\n",
       "│\u001b[36m                                           \u001b[0m│\u001b[35m \u001b[0m\u001b[35m│\u001b[0m\u001b[35m \u001b[0m\u001b[1;35mMatch:\u001b[0m\u001b[35m ^https://wcrp-cmip.github.io/CMIP7-CVs/                 \u001b[0m\u001b[35m \u001b[0m\u001b[35m│\u001b[0m\u001b[35m \u001b[0m│\n",
       "│\u001b[36m                                           \u001b[0m│\u001b[35m \u001b[0m\u001b[35m│\u001b[0m\u001b[35m \u001b[0m\u001b[1;35mReplace:\u001b[0m\u001b[35m http://localhost:54217/cmip7/                         \u001b[0m\u001b[35m \u001b[0m\u001b[35m│\u001b[0m\u001b[35m \u001b[0m│\n",
       "│\u001b[36m                                           \u001b[0m│\u001b[35m \u001b[0m\u001b[35m╰─────────────────────────────────────────────────────────────────╯\u001b[0m\u001b[35m \u001b[0m│\n",
       "└───────────────────────────────────────────┴─────────────────────────────────────────────────────────────────────┘\n"
      ]
     },
     "metadata": {},
     "output_type": "display_data"
    }
   ],
   "source": [
    "import cmipld\n",
    "from cmipld.utils.server_tools.offline import LD_server\n",
    "from cmipld.utils.git.repo_info import cmip_info\n",
    "\n",
    "repo = cmip_info()\n",
    "\n",
    "ldpath = cmipld.utils.io.ldpath() \n",
    "\n",
    "\n",
    "\n",
    "print('We should read all rep dependencies and pre-load them here.')\n",
    "\n",
    "localserver = LD_server( copy=[\n",
    "                        [ldpath, repo.io, repo.whoami],\n",
    "                        # ['/Users/daniel.ellis/WIPwork/WCRP-universe/src-data/', repo.io.replace('CMIP7-CVs','WCRP-universe'), 'universal'],\n",
    "                        ], override='y', \n",
    "                        use_ssl=False,\n",
    "                        )\n",
    "\n",
    "localhost = localserver.start_server()\n"
   ]
  },
  {
   "cell_type": "code",
   "execution_count": null,
   "id": "f8af02c4",
   "metadata": {},
   "outputs": [],
   "source": [
    "cmipld.get('cmip7:experiment/spinup-1950',depth=1)"
   ]
  },
  {
   "cell_type": "code",
   "execution_count": null,
   "id": "f99fb555",
   "metadata": {},
   "outputs": [],
   "source": [
    "from pyld import jsonld\n",
    "\n",
    "jsonld.expand('https://wcrp-cmip.github.io/CMIP7-CVs/experiment/abrupt-0p5co2.json')"
   ]
  },
  {
   "cell_type": "code",
   "execution_count": null,
   "id": "15610fc7",
   "metadata": {},
   "outputs": [],
   "source": [
    "cmipld.get('https://wcrp-cmip.github.io/CMIP7-CVs/project/product-list', depth=1)"
   ]
  },
  {
   "cell_type": "code",
   "execution_count": 21,
   "id": "65ba2fab",
   "metadata": {},
   "outputs": [
    {
     "data": {
      "text/plain": [
       "{'@context': 'universal:mip/cmip5',\n",
       " 'id': 'universal:mip/cmip5',\n",
       " 'type': ['wcrp:mip', 'universal'],\n",
       " 'description': '',\n",
       " 'end': 2020,\n",
       " 'start': 2006,\n",
       " 'ui-label': '',\n",
       " 'url': 'https://wcrp-cmip.org/CMIP5',\n",
       " 'validation-key': 'CMIP5'}"
      ]
     },
     "execution_count": 21,
     "metadata": {},
     "output_type": "execute_result"
    }
   ],
   "source": [
    "frame = {\n",
    "            \"@context\": \"https://wcrp-cmip.github.io/WCRP-universe/mip/_context_\",\n",
    "            \"@type\": \"wcrp:mip\",\n",
    "            \"keys we want\": \"\",\n",
    "            \"@explicit\": False\n",
    "\n",
    "        }\n",
    "        \n",
    "import cmipld\n",
    "cmipld.frame( \"universal:mip/cmip5\" , frame)"
   ]
  },
  {
   "cell_type": "code",
   "execution_count": null,
   "id": "28881d1f",
   "metadata": {},
   "outputs": [],
   "source": []
  }
 ],
 "metadata": {
  "kernelspec": {
   "display_name": "base",
   "language": "python",
   "name": "python3"
  },
  "language_info": {
   "codemirror_mode": {
    "name": "ipython",
    "version": 3
   },
   "file_extension": ".py",
   "mimetype": "text/x-python",
   "name": "python",
   "nbconvert_exporter": "python",
   "pygments_lexer": "ipython3",
   "version": "3.10.10"
  }
 },
 "nbformat": 4,
 "nbformat_minor": 5
}
