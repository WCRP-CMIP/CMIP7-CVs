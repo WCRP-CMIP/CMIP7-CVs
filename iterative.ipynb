{
 "cells": [
  {
   "cell_type": "code",
   "execution_count": 1,
   "id": "3ea6216a",
   "metadata": {},
   "outputs": [
    {
     "name": "stdout",
     "output_type": "stream",
     "text": [
      "make test for url2io\n",
      "Copying the repo into LocalServer  /Users/daniel.ellis/WIPwork/CMIP7_CVs/src-data/ --> cmip7\n",
      "Repositories copied into <TemporaryDirectory '/var/folders/hc/s_7lggq12nndglbdyrn3f91m1l58yd/T/cmipld_local_upn1op0k2025-05-01T01:51:26'>\n"
     ]
    },
    {
     "name": "stderr",
     "output_type": "stream",
     "text": [
      "-----\n"
     ]
    },
    {
     "data": {
      "text/html": [
       "<pre style=\"white-space:pre;overflow-x:auto;line-height:normal;font-family:Menlo,'DejaVu Sans Mono',consolas,'Courier New',monospace\">Created SSL certificates in: \n",
       "<span style=\"color: #800080; text-decoration-color: #800080\">/var/folders/hc/s_7lggq12nndglbdyrn3f91m1l58yd/T/</span><span style=\"color: #ff00ff; text-decoration-color: #ff00ff\">cmipld_local_upn1op0k2025-05-01T01</span>:<span style=\"color: #00ff00; text-decoration-color: #00ff00; font-weight: bold\">51:26</span> \n",
       "</pre>\n"
      ],
      "text/plain": [
       "Created SSL certificates in: \n",
       "\u001b[35m/var/folders/hc/s_7lggq12nndglbdyrn3f91m1l58yd/T/\u001b[0m\u001b[95mcmipld_local_upn1op0k2025-05-01T01\u001b[0m:\u001b[1;92m51:26\u001b[0m \n"
      ]
     },
     "metadata": {},
     "output_type": "display_data"
    },
    {
     "data": {
      "text/html": [
       "<pre style=\"white-space:pre;overflow-x:auto;line-height:normal;font-family:Menlo,'DejaVu Sans Mono',consolas,'Courier New',monospace\"><span style=\"color: #008000; text-decoration-color: #008000\">╭─────────────────────────────────────────────── Prefix Resolvers ────────────────────────────────────────────────╮</span>\n",
       "<span style=\"color: #008000; text-decoration-color: #008000\">│</span> <span style=\"color: #008080; text-decoration-color: #008080\">cf</span>: https://wcrp-cmip.github.io/CF/                                                                             <span style=\"color: #008000; text-decoration-color: #008000\">│</span>\n",
       "<span style=\"color: #008000; text-decoration-color: #008000\">│</span> <span style=\"color: #008080; text-decoration-color: #008080\">cmip7</span>: https://wcrp-cmip.github.io/CMIP7-CVs/                                                                   <span style=\"color: #008000; text-decoration-color: #008000\">│</span>\n",
       "<span style=\"color: #008000; text-decoration-color: #008000\">│</span> <span style=\"color: #008080; text-decoration-color: #008080\">obs4mips</span>: https://wolfiex.github.io/obs4MIPs-cmor-tables-ld/                                                    <span style=\"color: #008000; text-decoration-color: #008000\">│</span>\n",
       "<span style=\"color: #008000; text-decoration-color: #008000\">│</span> <span style=\"color: #008080; text-decoration-color: #008080\">universal</span>: https://wcrp-cmip.github.io/WCRP-universe/                                                           <span style=\"color: #008000; text-decoration-color: #008000\">│</span>\n",
       "<span style=\"color: #008000; text-decoration-color: #008000\">│</span> <span style=\"color: #008080; text-decoration-color: #008080\">variables</span>: https://wcrp-cmip.github.io/MIP-variables/                                                           <span style=\"color: #008000; text-decoration-color: #008000\">│</span>\n",
       "<span style=\"color: #008000; text-decoration-color: #008000\">│</span> <span style=\"color: #008080; text-decoration-color: #008080\">cmip6plus</span>: https://wcrp-cmip.github.io/CMIP6Plus_CVs/                                                           <span style=\"color: #008000; text-decoration-color: #008000\">│</span>\n",
       "<span style=\"color: #008000; text-decoration-color: #008000\">╰─────────────────────────────────────────────────────────────────────────────────────────────────────────────────╯</span>\n",
       "</pre>\n"
      ],
      "text/plain": [
       "\u001b[32m╭─\u001b[0m\u001b[32m──────────────────────────────────────────────\u001b[0m\u001b[32m Prefix Resolvers \u001b[0m\u001b[32m───────────────────────────────────────────────\u001b[0m\u001b[32m─╮\u001b[0m\n",
       "\u001b[32m│\u001b[0m \u001b[36mcf\u001b[0m: https://wcrp-cmip.github.io/CF/                                                                             \u001b[32m│\u001b[0m\n",
       "\u001b[32m│\u001b[0m \u001b[36mcmip7\u001b[0m: https://wcrp-cmip.github.io/CMIP7-CVs/                                                                   \u001b[32m│\u001b[0m\n",
       "\u001b[32m│\u001b[0m \u001b[36mobs4mips\u001b[0m: https://wolfiex.github.io/obs4MIPs-cmor-tables-ld/                                                    \u001b[32m│\u001b[0m\n",
       "\u001b[32m│\u001b[0m \u001b[36muniversal\u001b[0m: https://wcrp-cmip.github.io/WCRP-universe/                                                           \u001b[32m│\u001b[0m\n",
       "\u001b[32m│\u001b[0m \u001b[36mvariables\u001b[0m: https://wcrp-cmip.github.io/MIP-variables/                                                           \u001b[32m│\u001b[0m\n",
       "\u001b[32m│\u001b[0m \u001b[36mcmip6plus\u001b[0m: https://wcrp-cmip.github.io/CMIP6Plus_CVs/                                                           \u001b[32m│\u001b[0m\n",
       "\u001b[32m╰─────────────────────────────────────────────────────────────────────────────────────────────────────────────────╯\u001b[0m\n"
      ]
     },
     "metadata": {},
     "output_type": "display_data"
    },
    {
     "data": {
      "text/html": [
       "<pre style=\"white-space:pre;overflow-x:auto;line-height:normal;font-family:Menlo,'DejaVu Sans Mono',consolas,'Courier New',monospace\"><span style=\"font-style: italic\">                                        Regex-Based URL Redirects (by Host)                                        </span>\n",
       "┏━━━━━━━━━━━━━━━━━━━━━━━━━━━━━━━━━━━━━━━━━━━━━━━━━━━━┳━━━━━━━━━━━━━━━━━━━━━━━━━━━━━━━━━━━━━━━━━━━━━━━━━━━━━━━━━━━━┓\n",
       "┃<span style=\"font-weight: bold\">                        Host                        </span>┃<span style=\"font-weight: bold\"> Rules                                                      </span>┃\n",
       "┡━━━━━━━━━━━━━━━━━━━━━━━━━━━━━━━━━━━━━━━━━━━━━━━━━━━━╇━━━━━━━━━━━━━━━━━━━━━━━━━━━━━━━━━━━━━━━━━━━━━━━━━━━━━━━━━━━━┩\n",
       "└────────────────────────────────────────────────────┴────────────────────────────────────────────────────────────┘\n",
       "</pre>\n"
      ],
      "text/plain": [
       "\u001b[3m                                        Regex-Based URL Redirects (by Host)                                        \u001b[0m\n",
       "┏━━━━━━━━━━━━━━━━━━━━━━━━━━━━━━━━━━━━━━━━━━━━━━━━━━━━┳━━━━━━━━━━━━━━━━━━━━━━━━━━━━━━━━━━━━━━━━━━━━━━━━━━━━━━━━━━━━┓\n",
       "┃\u001b[1m \u001b[0m\u001b[1m                       Host                       \u001b[0m\u001b[1m \u001b[0m┃\u001b[1m \u001b[0m\u001b[1mRules                                                     \u001b[0m\u001b[1m \u001b[0m┃\n",
       "┡━━━━━━━━━━━━━━━━━━━━━━━━━━━━━━━━━━━━━━━━━━━━━━━━━━━━╇━━━━━━━━━━━━━━━━━━━━━━━━━━━━━━━━━━━━━━━━━━━━━━━━━━━━━━━━━━━━┩\n",
       "└────────────────────────────────────────────────────┴────────────────────────────────────────────────────────────┘\n"
      ]
     },
     "metadata": {},
     "output_type": "display_data"
    },
    {
     "data": {
      "text/html": [
       "<pre style=\"white-space:pre;overflow-x:auto;line-height:normal;font-family:Menlo,'DejaVu Sans Mono',consolas,'Courier New',monospace\">Serving <span style=\"color: #800080; text-decoration-color: #800080\">/var/folders/hc/s_7lggq12nndglbdyrn3f91m1l58yd/T/</span><span style=\"color: #ff00ff; text-decoration-color: #ff00ff\">cmipld_local_upn1op0k2025-05-01T01</span>:<span style=\"color: #00ff00; text-decoration-color: #00ff00; font-weight: bold\">51:26</span> at \n",
       "<span style=\"color: #800080; text-decoration-color: #800080; font-weight: bold; text-decoration: underline\">https://localhost:8084</span>\n",
       "</pre>\n"
      ],
      "text/plain": [
       "Serving \u001b[35m/var/folders/hc/s_7lggq12nndglbdyrn3f91m1l58yd/T/\u001b[0m\u001b[95mcmipld_local_upn1op0k2025-05-01T01\u001b[0m:\u001b[1;92m51:26\u001b[0m at \n",
       "\u001b[1;4;35mhttps://localhost:8084\u001b[0m\n"
      ]
     },
     "metadata": {},
     "output_type": "display_data"
    },
    {
     "name": "stdout",
     "output_type": "stream",
     "text": [
      "add the mappings here to the server\n"
     ]
    }
   ],
   "source": [
    "import cmipld \n",
    "from cmipld.utils.server_tools.offline import LD_server\n",
    "from pyld import jsonld\n",
    "\n",
    "ldpath = cmipld.utils.io.ldpath() \n",
    "\n",
    "repo_url = cmipld.utils.git.url()\n",
    "io_url = cmipld.utils.git.url2io(repo_url)\n",
    "whoami = cmipld.reverse_mapping()[io_url]\n",
    "\n",
    "localserver = LD_server( copy=[[ldpath, whoami]], override='y')\n",
    "localhost = localserver.start_server(8084)\n",
    "\n",
    "ld = jsonld.expand('cmip7:experiment/1pctco2',options={'extractAllScripts':  True})\n",
    "\n",
    "\n",
    "# print(help(cmipld.jsonld.expand))"
   ]
  },
  {
   "cell_type": "code",
   "execution_count": 3,
   "id": "cbace782",
   "metadata": {},
   "outputs": [
    {
     "ename": "AttributeError",
     "evalue": "'list' object has no attribute 'items'",
     "output_type": "error",
     "traceback": [
      "\u001b[0;31m---------------------------------------------------------------------------\u001b[0m",
      "\u001b[0;31mAttributeError\u001b[0m                            Traceback (most recent call last)",
      "Cell \u001b[0;32mIn[3], line 1\u001b[0m\n\u001b[0;32m----> 1\u001b[0m \u001b[43mcmipld\u001b[49m\u001b[38;5;241;43m.\u001b[39;49m\u001b[43mutils\u001b[49m\u001b[38;5;241;43m.\u001b[39;49m\u001b[43mget\u001b[49m\u001b[43m(\u001b[49m\u001b[38;5;124;43m\"\u001b[39;49m\u001b[38;5;124;43mcmip7:experiment/1pctco2\u001b[39;49m\u001b[38;5;124;43m\"\u001b[39;49m\u001b[43m,\u001b[49m\u001b[43mdepth\u001b[49m\u001b[38;5;241;43m=\u001b[39;49m\u001b[38;5;241;43m10\u001b[39;49m\u001b[43m,\u001b[49m\u001b[43mcompact\u001b[49m\u001b[38;5;241;43m=\u001b[39;49m\u001b[38;5;28;43;01mFalse\u001b[39;49;00m\u001b[43m)\u001b[49m\n",
      "File \u001b[0;32m~/WIPwork/CMIP-LD/cmipld/utils/extract/read.py:17\u001b[0m, in \u001b[0;36mget\u001b[0;34m(link, compact, depth)\u001b[0m\n\u001b[1;32m      5\u001b[0m \u001b[38;5;250m\u001b[39m\u001b[38;5;124;03m\"\"\"\u001b[39;00m\n\u001b[1;32m      6\u001b[0m \u001b[38;5;124;03mRetrieves and processes a JSON-LD document from the given link.\u001b[39;00m\n\u001b[1;32m      7\u001b[0m \n\u001b[0;32m   (...)\u001b[0m\n\u001b[1;32m     14\u001b[0m \u001b[38;5;124;03m    dict or list: The resolved and optionally compacted JSON-LD document.\u001b[39;00m\n\u001b[1;32m     15\u001b[0m \u001b[38;5;124;03m\"\"\"\u001b[39;00m\n\u001b[1;32m     16\u001b[0m body \u001b[38;5;241m=\u001b[39m jsonld\u001b[38;5;241m.\u001b[39mexpand(link, options\u001b[38;5;241m=\u001b[39m{\u001b[38;5;124m'\u001b[39m\u001b[38;5;124mextractAllScripts\u001b[39m\u001b[38;5;124m'\u001b[39m: \u001b[38;5;28;01mTrue\u001b[39;00m})\n\u001b[0;32m---> 17\u001b[0m resolved \u001b[38;5;241m=\u001b[39m \u001b[43m_resolve_ids\u001b[49m\u001b[43m(\u001b[49m\u001b[43mbody\u001b[49m\u001b[43m,\u001b[49m\u001b[43m \u001b[49m\u001b[43mcompact\u001b[49m\u001b[38;5;241;43m=\u001b[39;49m\u001b[43mcompact\u001b[49m\u001b[43m,\u001b[49m\u001b[43m \u001b[49m\u001b[43mdepth\u001b[49m\u001b[38;5;241;43m=\u001b[39;49m\u001b[43mdepth\u001b[49m\u001b[43m)\u001b[49m\n\u001b[1;32m     19\u001b[0m \u001b[38;5;28;01mif\u001b[39;00m compact:\n\u001b[1;32m     20\u001b[0m     \u001b[38;5;28;01mreturn\u001b[39;00m jsonld\u001b[38;5;241m.\u001b[39mcompact(resolved, link)\n",
      "File \u001b[0;32m~/WIPwork/CMIP-LD/cmipld/utils/extract/read.py:67\u001b[0m, in \u001b[0;36m_resolve_ids\u001b[0;34m(data, compact, depth)\u001b[0m\n\u001b[1;32m     65\u001b[0m         \u001b[38;5;28;01mreturn\u001b[39;00m \u001b[38;5;28mlist\u001b[39m(\u001b[38;5;28mmap\u001b[39m(\u001b[38;5;28;01mlambda\u001b[39;00m item: _resolve_ids(item, compact, depth), data))\n\u001b[1;32m     66\u001b[0m     \u001b[38;5;28;01melse\u001b[39;00m:\n\u001b[0;32m---> 67\u001b[0m         \u001b[38;5;28;01mreturn\u001b[39;00m [_resolve_ids(item, compact, depth) \u001b[38;5;28;01mfor\u001b[39;00m item \u001b[38;5;129;01min\u001b[39;00m data]\n\u001b[1;32m     69\u001b[0m \u001b[38;5;66;03m# Base case for primitives (e.g., strings, numbers)\u001b[39;00m\n\u001b[1;32m     70\u001b[0m \u001b[38;5;28;01mreturn\u001b[39;00m data\n",
      "File \u001b[0;32m~/WIPwork/CMIP-LD/cmipld/utils/extract/read.py:67\u001b[0m, in \u001b[0;36m<listcomp>\u001b[0;34m(.0)\u001b[0m\n\u001b[1;32m     65\u001b[0m         \u001b[38;5;28;01mreturn\u001b[39;00m \u001b[38;5;28mlist\u001b[39m(\u001b[38;5;28mmap\u001b[39m(\u001b[38;5;28;01mlambda\u001b[39;00m item: _resolve_ids(item, compact, depth), data))\n\u001b[1;32m     66\u001b[0m     \u001b[38;5;28;01melse\u001b[39;00m:\n\u001b[0;32m---> 67\u001b[0m         \u001b[38;5;28;01mreturn\u001b[39;00m [\u001b[43m_resolve_ids\u001b[49m\u001b[43m(\u001b[49m\u001b[43mitem\u001b[49m\u001b[43m,\u001b[49m\u001b[43m \u001b[49m\u001b[43mcompact\u001b[49m\u001b[43m,\u001b[49m\u001b[43m \u001b[49m\u001b[43mdepth\u001b[49m\u001b[43m)\u001b[49m \u001b[38;5;28;01mfor\u001b[39;00m item \u001b[38;5;129;01min\u001b[39;00m data]\n\u001b[1;32m     69\u001b[0m \u001b[38;5;66;03m# Base case for primitives (e.g., strings, numbers)\u001b[39;00m\n\u001b[1;32m     70\u001b[0m \u001b[38;5;28;01mreturn\u001b[39;00m data\n",
      "File \u001b[0;32m~/WIPwork/CMIP-LD/cmipld/utils/extract/read.py:57\u001b[0m, in \u001b[0;36m_resolve_ids\u001b[0;34m(data, compact, depth)\u001b[0m\n\u001b[1;32m     54\u001b[0m             \u001b[38;5;28;01melse\u001b[39;00m:\n\u001b[1;32m     55\u001b[0m                 data \u001b[38;5;241m=\u001b[39m expanded[\u001b[38;5;241m0\u001b[39m]\n\u001b[0;32m---> 57\u001b[0m     \u001b[38;5;28;01mreturn\u001b[39;00m {\n\u001b[1;32m     58\u001b[0m         key: _resolve_ids(value, compact, depth)\n\u001b[1;32m     59\u001b[0m         \u001b[38;5;28;01mfor\u001b[39;00m key, value \u001b[38;5;129;01min\u001b[39;00m data\u001b[38;5;241m.\u001b[39mitems()\n\u001b[1;32m     60\u001b[0m     }\n\u001b[1;32m     62\u001b[0m \u001b[38;5;28;01melif\u001b[39;00m \u001b[38;5;28misinstance\u001b[39m(data, \u001b[38;5;28mlist\u001b[39m):\n\u001b[1;32m     63\u001b[0m     \u001b[38;5;28;01mif\u001b[39;00m \u001b[38;5;28mlen\u001b[39m(data) \u001b[38;5;241m>\u001b[39m \u001b[38;5;241m3\u001b[39m \u001b[38;5;129;01mand\u001b[39;00m depth \u001b[38;5;241m<\u001b[39m \u001b[38;5;241m2\u001b[39m:\n\u001b[1;32m     64\u001b[0m         \u001b[38;5;66;03m# (Placeholder for parallel map)\u001b[39;00m\n",
      "File \u001b[0;32m~/WIPwork/CMIP-LD/cmipld/utils/extract/read.py:58\u001b[0m, in \u001b[0;36m<dictcomp>\u001b[0;34m(.0)\u001b[0m\n\u001b[1;32m     54\u001b[0m             \u001b[38;5;28;01melse\u001b[39;00m:\n\u001b[1;32m     55\u001b[0m                 data \u001b[38;5;241m=\u001b[39m expanded[\u001b[38;5;241m0\u001b[39m]\n\u001b[1;32m     57\u001b[0m     \u001b[38;5;28;01mreturn\u001b[39;00m {\n\u001b[0;32m---> 58\u001b[0m         key: \u001b[43m_resolve_ids\u001b[49m\u001b[43m(\u001b[49m\u001b[43mvalue\u001b[49m\u001b[43m,\u001b[49m\u001b[43m \u001b[49m\u001b[43mcompact\u001b[49m\u001b[43m,\u001b[49m\u001b[43m \u001b[49m\u001b[43mdepth\u001b[49m\u001b[43m)\u001b[49m\n\u001b[1;32m     59\u001b[0m         \u001b[38;5;28;01mfor\u001b[39;00m key, value \u001b[38;5;129;01min\u001b[39;00m data\u001b[38;5;241m.\u001b[39mitems()\n\u001b[1;32m     60\u001b[0m     }\n\u001b[1;32m     62\u001b[0m \u001b[38;5;28;01melif\u001b[39;00m \u001b[38;5;28misinstance\u001b[39m(data, \u001b[38;5;28mlist\u001b[39m):\n\u001b[1;32m     63\u001b[0m     \u001b[38;5;28;01mif\u001b[39;00m \u001b[38;5;28mlen\u001b[39m(data) \u001b[38;5;241m>\u001b[39m \u001b[38;5;241m3\u001b[39m \u001b[38;5;129;01mand\u001b[39;00m depth \u001b[38;5;241m<\u001b[39m \u001b[38;5;241m2\u001b[39m:\n\u001b[1;32m     64\u001b[0m         \u001b[38;5;66;03m# (Placeholder for parallel map)\u001b[39;00m\n",
      "File \u001b[0;32m~/WIPwork/CMIP-LD/cmipld/utils/extract/read.py:67\u001b[0m, in \u001b[0;36m_resolve_ids\u001b[0;34m(data, compact, depth)\u001b[0m\n\u001b[1;32m     65\u001b[0m         \u001b[38;5;28;01mreturn\u001b[39;00m \u001b[38;5;28mlist\u001b[39m(\u001b[38;5;28mmap\u001b[39m(\u001b[38;5;28;01mlambda\u001b[39;00m item: _resolve_ids(item, compact, depth), data))\n\u001b[1;32m     66\u001b[0m     \u001b[38;5;28;01melse\u001b[39;00m:\n\u001b[0;32m---> 67\u001b[0m         \u001b[38;5;28;01mreturn\u001b[39;00m [_resolve_ids(item, compact, depth) \u001b[38;5;28;01mfor\u001b[39;00m item \u001b[38;5;129;01min\u001b[39;00m data]\n\u001b[1;32m     69\u001b[0m \u001b[38;5;66;03m# Base case for primitives (e.g., strings, numbers)\u001b[39;00m\n\u001b[1;32m     70\u001b[0m \u001b[38;5;28;01mreturn\u001b[39;00m data\n",
      "File \u001b[0;32m~/WIPwork/CMIP-LD/cmipld/utils/extract/read.py:67\u001b[0m, in \u001b[0;36m<listcomp>\u001b[0;34m(.0)\u001b[0m\n\u001b[1;32m     65\u001b[0m         \u001b[38;5;28;01mreturn\u001b[39;00m \u001b[38;5;28mlist\u001b[39m(\u001b[38;5;28mmap\u001b[39m(\u001b[38;5;28;01mlambda\u001b[39;00m item: _resolve_ids(item, compact, depth), data))\n\u001b[1;32m     66\u001b[0m     \u001b[38;5;28;01melse\u001b[39;00m:\n\u001b[0;32m---> 67\u001b[0m         \u001b[38;5;28;01mreturn\u001b[39;00m [\u001b[43m_resolve_ids\u001b[49m\u001b[43m(\u001b[49m\u001b[43mitem\u001b[49m\u001b[43m,\u001b[49m\u001b[43m \u001b[49m\u001b[43mcompact\u001b[49m\u001b[43m,\u001b[49m\u001b[43m \u001b[49m\u001b[43mdepth\u001b[49m\u001b[43m)\u001b[49m \u001b[38;5;28;01mfor\u001b[39;00m item \u001b[38;5;129;01min\u001b[39;00m data]\n\u001b[1;32m     69\u001b[0m \u001b[38;5;66;03m# Base case for primitives (e.g., strings, numbers)\u001b[39;00m\n\u001b[1;32m     70\u001b[0m \u001b[38;5;28;01mreturn\u001b[39;00m data\n",
      "File \u001b[0;32m~/WIPwork/CMIP-LD/cmipld/utils/extract/read.py:59\u001b[0m, in \u001b[0;36m_resolve_ids\u001b[0;34m(data, compact, depth)\u001b[0m\n\u001b[1;32m     54\u001b[0m             \u001b[38;5;28;01melse\u001b[39;00m:\n\u001b[1;32m     55\u001b[0m                 data \u001b[38;5;241m=\u001b[39m expanded[\u001b[38;5;241m0\u001b[39m]\n\u001b[1;32m     57\u001b[0m     \u001b[38;5;28;01mreturn\u001b[39;00m {\n\u001b[1;32m     58\u001b[0m         key: _resolve_ids(value, compact, depth)\n\u001b[0;32m---> 59\u001b[0m         \u001b[38;5;28;01mfor\u001b[39;00m key, value \u001b[38;5;129;01min\u001b[39;00m \u001b[43mdata\u001b[49m\u001b[38;5;241;43m.\u001b[39;49m\u001b[43mitems\u001b[49m()\n\u001b[1;32m     60\u001b[0m     }\n\u001b[1;32m     62\u001b[0m \u001b[38;5;28;01melif\u001b[39;00m \u001b[38;5;28misinstance\u001b[39m(data, \u001b[38;5;28mlist\u001b[39m):\n\u001b[1;32m     63\u001b[0m     \u001b[38;5;28;01mif\u001b[39;00m \u001b[38;5;28mlen\u001b[39m(data) \u001b[38;5;241m>\u001b[39m \u001b[38;5;241m3\u001b[39m \u001b[38;5;129;01mand\u001b[39;00m depth \u001b[38;5;241m<\u001b[39m \u001b[38;5;241m2\u001b[39m:\n\u001b[1;32m     64\u001b[0m         \u001b[38;5;66;03m# (Placeholder for parallel map)\u001b[39;00m\n",
      "\u001b[0;31mAttributeError\u001b[0m: 'list' object has no attribute 'items'"
     ]
    }
   ],
   "source": [
    "cmipld.utils.get(\"cmip7:experiment/1pctco2\",depth=10,compact=False)"
   ]
  },
  {
   "cell_type": "code",
   "execution_count": null,
   "id": "7a30d2c8",
   "metadata": {},
   "outputs": [],
   "source": []
  },
  {
   "cell_type": "code",
   "execution_count": null,
   "id": "6ac73901",
   "metadata": {},
   "outputs": [],
   "source": [
    "from pyld import jsonld\n",
    "\n",
    "\n",
    "def get(link, compact=True, depth=10):\n",
    "    \"\"\"\n",
    "    Retrieve and resolve a JSON-LD document from a URL.\n",
    "\n",
    "    Args:\n",
    "        link (str): URL of the JSON-LD document.\n",
    "        compact (bool): Whether to compact the final document using the original context.\n",
    "        depth (int): Maximum recursion depth for resolving @id references.\n",
    "\n",
    "    Returns:\n",
    "        dict or list: The fully resolved JSON-LD document.\n",
    "    \"\"\"\n",
    "    expanded = jsonld.expand(link, options={'extractAllScripts': True})\n",
    "    resolved = _resolve_ids(expanded, compact=compact, depth=depth)\n",
    "\n",
    "    if compact:\n",
    "        return jsonld.compact(resolved, link)\n",
    "\n",
    "    return resolved\n",
    "\n",
    "\n",
    "def _resolve_ids(data, compact=True, depth=2):\n",
    "    \"\"\"\n",
    "    Recursively resolve @id references in a JSON-LD structure.\n",
    "\n",
    "    Args:\n",
    "        data (dict or list): The expanded JSON-LD data to process.\n",
    "        compact (bool): Whether to compact merged results when combining data.\n",
    "        depth (int): Remaining depth for recursive resolution.\n",
    "\n",
    "    Returns:\n",
    "        dict or list: JSON-LD data with resolved references.\n",
    "    \"\"\"\n",
    "    if depth <= 0:\n",
    "        return data\n",
    "\n",
    "    if isinstance(data, dict):\n",
    "        if '@id' in data and '@type' not in data and data['@id'].startswith('http'):\n",
    "            try:\n",
    "                # Fetch and resolve linked document\n",
    "                expanded_ref = get(data['@id'], compact=compact, depth=depth - 1)\n",
    "            except jsonld.JsonLdError:\n",
    "                print('\\nWARNING: missing @id:', data['@id'])\n",
    "                expanded_ref = None\n",
    "\n",
    "            if expanded_ref:\n",
    "                if len(data) > 1:\n",
    "                    # Merge current data (minus @id) with resolved reference\n",
    "                    data = {**expanded_ref, **{k: v for k, v in data.items() if k != '@id'}}\n",
    "                    data = jsonld.compact(data, expanded_ref)\n",
    "                else:\n",
    "                    data = expanded_ref\n",
    "\n",
    "        return {key: _resolve_ids(value, compact, depth) for key, value in data.items()}\n",
    "\n",
    "    if isinstance(data, list):\n",
    "        return [_resolve_ids(item, compact, depth) for item in data]\n",
    "\n",
    "    return data  # Base case for primitive values\n"
   ]
  },
  {
   "cell_type": "code",
   "execution_count": null,
   "id": "53a61e90",
   "metadata": {},
   "outputs": [],
   "source": [
    "out = get('cmip7:experiment/scen7-vlhoc',compact=True, depth=88)\n",
    "\n",
    "print(json.dumps(out,indent=8))"
   ]
  },
  {
   "cell_type": "code",
   "execution_count": null,
   "id": "08c9ec36",
   "metadata": {},
   "outputs": [],
   "source": [
    "# rid = _resolve_ids(ld, compact=True, depth=10)"
   ]
  },
  {
   "cell_type": "code",
   "execution_count": null,
   "id": "82fb90ab",
   "metadata": {},
   "outputs": [],
   "source": [
    "# jsonld.compact(rid,{'@context': 'cmip7:experiment/1pctco2',\n",
    "#  'id': 'cmip7:experiment/1pctco2',\n",
    "#  'type': ['wcrp:experiment', 'cmip7']})"
   ]
  },
  {
   "cell_type": "code",
   "execution_count": null,
   "id": "c06100e3",
   "metadata": {},
   "outputs": [],
   "source": [
    "# import json\n",
    "# print(json.dumps(ld,indent=9))"
   ]
  },
  {
   "cell_type": "code",
   "execution_count": null,
   "id": "65193cf9",
   "metadata": {},
   "outputs": [],
   "source": [
    "jsonld.expand('cmip7:experiment/scen7-vlhoc')"
   ]
  },
  {
   "cell_type": "code",
   "execution_count": null,
   "id": "8969200e",
   "metadata": {},
   "outputs": [],
   "source": []
  }
 ],
 "metadata": {
  "kernelspec": {
   "display_name": "base",
   "language": "python",
   "name": "python3"
  },
  "language_info": {
   "codemirror_mode": {
    "name": "ipython",
    "version": 3
   },
   "file_extension": ".py",
   "mimetype": "text/x-python",
   "name": "python",
   "nbconvert_exporter": "python",
   "pygments_lexer": "ipython3",
   "version": "3.10.10"
  }
 },
 "nbformat": 4,
 "nbformat_minor": 5
}
