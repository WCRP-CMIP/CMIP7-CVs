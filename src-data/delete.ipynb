{
 "cells": [
  {
   "cell_type": "code",
   "execution_count": null,
   "id": "imports",
   "metadata": {},
   "outputs": [],
   "source": [
    "import json\n",
    "from pyld import jsonld\n",
    "import cmipld\n",
    "from cmipld.utils.git import get_repo_url\n",
    "from cmipld.utils.server_tools.offline_patched import LD_server\n",
    "import os"
   ]
  },
  {
   "cell_type": "code",
   "execution_count": null,
   "id": "load-graph",
   "metadata": {},
   "outputs": [],
   "source": [
    "# Load a local JSON-LD document\n",
    "with open('experiment/graph.jsonld', 'r') as f:\n",
    "    gr = json.load(f)\n",
    "\n",
    "gr_ctx = gr.get('@context', {})\n",
    "gr_ctx"
   ]
  },
  {
   "cell_type": "code",
   "execution_count": null,
   "id": "resolve-contexts",
   "metadata": {},
   "outputs": [],
   "source": [
    "# Resolve each context entry in gr['@context'] via cmipld's loader.\n",
    "# For URL contexts, we fetch and try to return the term definition for that key;\n",
    "# if not found, we store the entire fetched @context so you can inspect it.\n",
    "context_results = {}\n",
    "if isinstance(gr_ctx, dict):\n",
    "    for ctx_key, ctx_val in gr_ctx.items():\n",
    "        # Skip embedded dict contexts — they’re already local definitions\n",
    "        if isinstance(ctx_val, dict):\n",
    "            context_results[ctx_key] = ctx_val\n",
    "            continue\n",
    "        try:\n",
    "            loaded = cmipld.loader.loader(ctx_val)\n",
    "            if isinstance(loaded, dict):\n",
    "                loaded_ctx = loaded.get('@context', loaded)\n",
    "                if isinstance(loaded_ctx, dict):\n",
    "                    context_results[ctx_key] = loaded_ctx.get(ctx_key, loaded_ctx)\n",
    "                else:\n",
    "                    context_results[ctx_key] = loaded_ctx\n",
    "            else:\n",
    "                context_results[ctx_key] = loaded\n",
    "        except Exception as e:\n",
    "            context_results[ctx_key] = f\"Error: {e}\"\n",
    "else:\n",
    "    # If @context is a list/IRI, just store it\n",
    "    context_results['@context'] = gr_ctx\n",
    "\n",
    "context_results"
   ]
  },
  {
   "cell_type": "code",
   "execution_count": null,
   "id": "expand-compact-local",
   "metadata": {},
   "outputs": [],
   "source": [
    "# Expand/compact the local document using its own context\n",
    "expanded = jsonld.expand(gr)\n",
    "expanded\n",
    "\n",
    "# Prefer passing just the context (object/IRI), not the full document\n",
    "compacted = jsonld.compact(gr, gr_ctx)\n",
    "compacted"
   ]
  },
  {
   "cell_type": "code",
   "execution_count": null,
   "id": "rdf-and-iris",
   "metadata": {},
   "outputs": [],
   "source": [
    "# Convert to RDF (dataset form) and collect unique IRIs found anywhere in the triples\n",
    "rdf_dataset = jsonld.to_rdf(gr)\n",
    "all_ids = set()\n",
    "for _, triples in rdf_dataset.items():\n",
    "    for triple in triples:\n",
    "        for key in ('subject', 'predicate', 'object'):\n",
    "            term = triple[key]\n",
    "            if term.get('type') == 'IRI':\n",
    "                all_ids.add(term['value'])\n",
    "\n",
    "sorted_all_ids = sorted(all_ids)\n",
    "for iri in sorted_all_ids:\n",
    "    print(iri)\n"
   ]
  },
  {
   "cell_type": "code",
   "execution_count": null,
   "id": "linked-object-iris",
   "metadata": {},
   "outputs": [],
   "source": [
    "# Collect only linked object IRIs\n",
    "rdf_dataset2 = jsonld.to_rdf(gr)\n",
    "linked_ids = set()\n",
    "for _, triples in rdf_dataset2.items():\n",
    "    for triple in triples:\n",
    "        obj = triple['object']\n",
    "        if obj.get('type') == 'IRI':\n",
    "            linked_ids.add(obj['value'])\n",
    "\n",
    "for iri in sorted(linked_ids):\n",
    "    print(iri)\n"
   ]
  },
  {
   "cell_type": "code",
   "execution_count": 9,
   "id": "repo-and-prefix",
   "metadata": {},
   "outputs": [
    {
     "data": {
      "text/plain": [
       "('https://github.com/wcrp-cmip/CMIP7-CVs/', 'cmip7')"
      ]
     },
     "execution_count": 9,
     "metadata": {},
     "output_type": "execute_result"
    }
   ],
   "source": [
    "import cmipld,os\n",
    "from cmipld.utils.server_tools.offline_patched import LD_server\n",
    "# from cmipld import get_repo_url, LD_server\n",
    "# Discover the current repo and reverse mapping to a prefix known by cmipld\n",
    "repo_url = cmipld.utils.git.get_repo_url()\n",
    "prefix = cmipld.reverse_direct[repo_url]\n",
    "repo_url, prefix"
   ]
  },
  {
   "cell_type": "code",
   "execution_count": 10,
   "id": "offline-server",
   "metadata": {},
   "outputs": [
    {
     "name": "stdout",
     "output_type": "stream",
     "text": [
      "Added redirect: wcrp-cmip.github.io | re.compile('^(?!.*(_context_|\\\\.json(?:ld)?|\\\\/)$).*') -> \\g<0>.json\n",
      "Added redirect: wcrp-cmip.github.io | re.compile('^https://wcrp-cmip.github.io/CMIP7-CVs/') -> http://localhost:56941/cmip7/\n"
     ]
    },
    {
     "data": {
      "text/html": [
       "<pre style=\"white-space:pre;overflow-x:auto;line-height:normal;font-family:Menlo,'DejaVu Sans Mono',consolas,'Courier New',monospace\"><span style=\"color: #008000; text-decoration-color: #008000\">╭─────────────────────────────────────────────── Prefix Resolvers ────────────────────────────────────────────────╮</span>\n",
       "<span style=\"color: #008000; text-decoration-color: #008000\">│</span> <span style=\"color: #008080; text-decoration-color: #008080\">cf</span>: https://wcrp-cmip.github.io/CF/                                                                             <span style=\"color: #008000; text-decoration-color: #008000\">│</span>\n",
       "<span style=\"color: #008000; text-decoration-color: #008000\">│</span> <span style=\"color: #008080; text-decoration-color: #008080\">vr</span>: https://wcrp-cmip.github.io/Variable-Registry/                                                              <span style=\"color: #008000; text-decoration-color: #008000\">│</span>\n",
       "<span style=\"color: #008000; text-decoration-color: #008000\">│</span> <span style=\"color: #008080; text-decoration-color: #008080\">cmip7</span>: https://wcrp-cmip.github.io/CMIP7-CVs/                                                                   <span style=\"color: #008000; text-decoration-color: #008000\">│</span>\n",
       "<span style=\"color: #008000; text-decoration-color: #008000\">│</span> <span style=\"color: #008080; text-decoration-color: #008080\">universal</span>: https://wcrp-cmip.github.io/WCRP-universe/                                                           <span style=\"color: #008000; text-decoration-color: #008000\">│</span>\n",
       "<span style=\"color: #008000; text-decoration-color: #008000\">│</span> <span style=\"color: #008080; text-decoration-color: #008080\">cmip6plus</span>: https://wcrp-cmip.github.io/CMIP6Plus_CVs/                                                           <span style=\"color: #008000; text-decoration-color: #008000\">│</span>\n",
       "<span style=\"color: #008000; text-decoration-color: #008000\">╰─────────────────────────────────────────────────────────────────────────────────────────────────────────────────╯</span>\n",
       "</pre>\n"
      ],
      "text/plain": [
       "\u001b[32m╭─\u001b[0m\u001b[32m──────────────────────────────────────────────\u001b[0m\u001b[32m Prefix Resolvers \u001b[0m\u001b[32m───────────────────────────────────────────────\u001b[0m\u001b[32m─╮\u001b[0m\n",
       "\u001b[32m│\u001b[0m \u001b[36mcf\u001b[0m: https://wcrp-cmip.github.io/CF/                                                                             \u001b[32m│\u001b[0m\n",
       "\u001b[32m│\u001b[0m \u001b[36mvr\u001b[0m: https://wcrp-cmip.github.io/Variable-Registry/                                                              \u001b[32m│\u001b[0m\n",
       "\u001b[32m│\u001b[0m \u001b[36mcmip7\u001b[0m: https://wcrp-cmip.github.io/CMIP7-CVs/                                                                   \u001b[32m│\u001b[0m\n",
       "\u001b[32m│\u001b[0m \u001b[36muniversal\u001b[0m: https://wcrp-cmip.github.io/WCRP-universe/                                                           \u001b[32m│\u001b[0m\n",
       "\u001b[32m│\u001b[0m \u001b[36mcmip6plus\u001b[0m: https://wcrp-cmip.github.io/CMIP6Plus_CVs/                                                           \u001b[32m│\u001b[0m\n",
       "\u001b[32m╰─────────────────────────────────────────────────────────────────────────────────────────────────────────────────╯\u001b[0m\n"
      ]
     },
     "metadata": {},
     "output_type": "display_data"
    },
    {
     "data": {
      "text/html": [
       "<pre style=\"white-space:pre;overflow-x:auto;line-height:normal;font-family:Menlo,'DejaVu Sans Mono',consolas,'Courier New',monospace\"><span style=\"font-style: italic\">                                        Regex-Based URL Redirects (by Host)                                        </span>\n",
       "┏━━━━━━━━━━━━━━━━━━━━━━━━━━━━━━━━━━━━━┳━━━━━━━━━━━━━━━━━━━━━━━━━━━━━━━━━━━━━━━━━━━━━━━━━━━━━━━━━━━━━━━━━━━━━━━━━━━┓\n",
       "┃<span style=\"font-weight: bold\">                Host                 </span>┃<span style=\"font-weight: bold\"> Rules                                                                     </span>┃\n",
       "┡━━━━━━━━━━━━━━━━━━━━━━━━━━━━━━━━━━━━━╇━━━━━━━━━━━━━━━━━━━━━━━━━━━━━━━━━━━━━━━━━━━━━━━━━━━━━━━━━━━━━━━━━━━━━━━━━━━┩\n",
       "│<span style=\"color: #008080; text-decoration-color: #008080\"> ╭────────────────────────────╮      </span>│<span style=\"color: #800080; text-decoration-color: #800080\"> ╭───────────────────────────────────────────────────────────────────────╮ </span>│\n",
       "│<span style=\"color: #008080; text-decoration-color: #008080\"> │    wcrp-cmip.github.io     │      </span>│<span style=\"color: #800080; text-decoration-color: #800080\"> │ </span><span style=\"color: #800080; text-decoration-color: #800080; font-weight: bold\">Match:</span><span style=\"color: #800080; text-decoration-color: #800080\"> re.compile('^(?!.*(_context_|\\\\.json(?:ld)?|\\\\/)$).*')         │ </span>│\n",
       "│<span style=\"color: #008080; text-decoration-color: #008080\"> ╰────────────────────────────╯      </span>│<span style=\"color: #800080; text-decoration-color: #800080\"> │ </span><span style=\"color: #800080; text-decoration-color: #800080; font-weight: bold\">Replace:</span><span style=\"color: #800080; text-decoration-color: #800080\"> \\g&lt;0&gt;.json                                                   │ </span>│\n",
       "│<span style=\"color: #008080; text-decoration-color: #008080\">                                     </span>│<span style=\"color: #800080; text-decoration-color: #800080\"> ╰───────────────────────────────────────────────────────────────────────╯ </span>│\n",
       "│<span style=\"color: #008080; text-decoration-color: #008080\">                                     </span>│<span style=\"color: #800080; text-decoration-color: #800080\"> ╭───────────────────────────────────────────────────────────────────────╮ </span>│\n",
       "│<span style=\"color: #008080; text-decoration-color: #008080\">                                     </span>│<span style=\"color: #800080; text-decoration-color: #800080\"> │ </span><span style=\"color: #800080; text-decoration-color: #800080; font-weight: bold\">Match:</span><span style=\"color: #800080; text-decoration-color: #800080\"> re.compile('^https://wcrp-cmip.github.io/CMIP7-CVs/')          │ </span>│\n",
       "│<span style=\"color: #008080; text-decoration-color: #008080\">                                     </span>│<span style=\"color: #800080; text-decoration-color: #800080\"> │ </span><span style=\"color: #800080; text-decoration-color: #800080; font-weight: bold\">Replace:</span><span style=\"color: #800080; text-decoration-color: #800080\"> http://localhost:56941/cmip7/                                │ </span>│\n",
       "│<span style=\"color: #008080; text-decoration-color: #008080\">                                     </span>│<span style=\"color: #800080; text-decoration-color: #800080\"> ╰───────────────────────────────────────────────────────────────────────╯ </span>│\n",
       "└─────────────────────────────────────┴───────────────────────────────────────────────────────────────────────────┘\n",
       "</pre>\n"
      ],
      "text/plain": [
       "\u001b[3m                                        Regex-Based URL Redirects (by Host)                                        \u001b[0m\n",
       "┏━━━━━━━━━━━━━━━━━━━━━━━━━━━━━━━━━━━━━┳━━━━━━━━━━━━━━━━━━━━━━━━━━━━━━━━━━━━━━━━━━━━━━━━━━━━━━━━━━━━━━━━━━━━━━━━━━━┓\n",
       "┃\u001b[1m \u001b[0m\u001b[1m               Host                \u001b[0m\u001b[1m \u001b[0m┃\u001b[1m \u001b[0m\u001b[1mRules                                                                    \u001b[0m\u001b[1m \u001b[0m┃\n",
       "┡━━━━━━━━━━━━━━━━━━━━━━━━━━━━━━━━━━━━━╇━━━━━━━━━━━━━━━━━━━━━━━━━━━━━━━━━━━━━━━━━━━━━━━━━━━━━━━━━━━━━━━━━━━━━━━━━━━┩\n",
       "│\u001b[36m \u001b[0m\u001b[36m╭────────────────────────────╮\u001b[0m\u001b[36m     \u001b[0m\u001b[36m \u001b[0m│\u001b[35m \u001b[0m\u001b[35m╭───────────────────────────────────────────────────────────────────────╮\u001b[0m\u001b[35m \u001b[0m│\n",
       "│\u001b[36m \u001b[0m\u001b[36m│\u001b[0m\u001b[36m \u001b[0m\u001b[36m   wcrp-cmip.github.io    \u001b[0m\u001b[36m \u001b[0m\u001b[36m│\u001b[0m\u001b[36m     \u001b[0m\u001b[36m \u001b[0m│\u001b[35m \u001b[0m\u001b[35m│\u001b[0m\u001b[35m \u001b[0m\u001b[1;35mMatch:\u001b[0m\u001b[35m re.compile('^(?!.*(_context_|\\\\.json(?:ld)?|\\\\/)$).*')        \u001b[0m\u001b[35m \u001b[0m\u001b[35m│\u001b[0m\u001b[35m \u001b[0m│\n",
       "│\u001b[36m \u001b[0m\u001b[36m╰────────────────────────────╯\u001b[0m\u001b[36m     \u001b[0m\u001b[36m \u001b[0m│\u001b[35m \u001b[0m\u001b[35m│\u001b[0m\u001b[35m \u001b[0m\u001b[1;35mReplace:\u001b[0m\u001b[35m \\g<0>.json                                                  \u001b[0m\u001b[35m \u001b[0m\u001b[35m│\u001b[0m\u001b[35m \u001b[0m│\n",
       "│\u001b[36m                                     \u001b[0m│\u001b[35m \u001b[0m\u001b[35m╰───────────────────────────────────────────────────────────────────────╯\u001b[0m\u001b[35m \u001b[0m│\n",
       "│\u001b[36m                                     \u001b[0m│\u001b[35m \u001b[0m\u001b[35m╭───────────────────────────────────────────────────────────────────────╮\u001b[0m\u001b[35m \u001b[0m│\n",
       "│\u001b[36m                                     \u001b[0m│\u001b[35m \u001b[0m\u001b[35m│\u001b[0m\u001b[35m \u001b[0m\u001b[1;35mMatch:\u001b[0m\u001b[35m re.compile('^https://wcrp-cmip.github.io/CMIP7-CVs/')         \u001b[0m\u001b[35m \u001b[0m\u001b[35m│\u001b[0m\u001b[35m \u001b[0m│\n",
       "│\u001b[36m                                     \u001b[0m│\u001b[35m \u001b[0m\u001b[35m│\u001b[0m\u001b[35m \u001b[0m\u001b[1;35mReplace:\u001b[0m\u001b[35m http://localhost:56941/cmip7/                               \u001b[0m\u001b[35m \u001b[0m\u001b[35m│\u001b[0m\u001b[35m \u001b[0m│\n",
       "│\u001b[36m                                     \u001b[0m│\u001b[35m \u001b[0m\u001b[35m╰───────────────────────────────────────────────────────────────────────╯\u001b[0m\u001b[35m \u001b[0m│\n",
       "└─────────────────────────────────────┴───────────────────────────────────────────────────────────────────────────┘\n"
      ]
     },
     "metadata": {},
     "output_type": "display_data"
    },
    {
     "data": {
      "text/plain": [
       "'http://localhost:56941'"
      ]
     },
     "execution_count": 10,
     "metadata": {},
     "output_type": "execute_result"
    }
   ],
   "source": [
    "# Serve the local repo as a JSON-LD endpoint (handy for offline work)\n",
    "location = os.getcwd()\n",
    "local = [(location, cmipld.mapping[prefix], prefix)]\n",
    "server = LD_server(copy=local, use_ssl=False)\n",
    "base_url = server.start_server(port=8081)  # may pick a different port if 8081 is busy\n",
    "base_url"
   ]
  },
  {
   "cell_type": "code",
   "execution_count": 40,
   "id": "c9b1cb39",
   "metadata": {},
   "outputs": [
    {
     "data": {
      "text/plain": [
       "{'universal:activity', 'universal:source-type'}"
      ]
     },
     "execution_count": 40,
     "metadata": {},
     "output_type": "execute_result"
    }
   ],
   "source": [
    "import re\n",
    "self = f'{prefix}:experiment/'\n",
    "all = cmipld.depends(f'{self}/graph.jsonld',prefix = True)\n",
    "\n",
    "last = re.compile(r'/[^/]+$')\n",
    "subset = set([last.sub('',x) for x in all if not x.startswith(self)])\n",
    "\n",
    "subset"
   ]
  },
  {
   "cell_type": "code",
   "execution_count": 12,
   "id": "cmip7-amip-expand-compact",
   "metadata": {},
   "outputs": [
    {
     "ename": "NameError",
     "evalue": "name 'jsonld' is not defined",
     "output_type": "error",
     "traceback": [
      "\u001b[0;31m---------------------------------------------------------------------------\u001b[0m",
      "\u001b[0;31mNameError\u001b[0m                                 Traceback (most recent call last)",
      "Cell \u001b[0;32mIn [12], line 6\u001b[0m\n\u001b[1;32m      3\u001b[0m amip_doc_iri \u001b[38;5;241m=\u001b[39m \u001b[38;5;124m'\u001b[39m\u001b[38;5;124mcmip7:experiment/amip\u001b[39m\u001b[38;5;124m'\u001b[39m\n\u001b[1;32m      4\u001b[0m amip_ctx_iri \u001b[38;5;241m=\u001b[39m \u001b[38;5;124m'\u001b[39m\u001b[38;5;124mcmip7:experiment/_context_\u001b[39m\u001b[38;5;124m'\u001b[39m\n\u001b[0;32m----> 6\u001b[0m expanded_amip \u001b[38;5;241m=\u001b[39m \u001b[43mjsonld\u001b[49m\u001b[38;5;241m.\u001b[39mexpand(amip_doc_iri)\n\u001b[1;32m      7\u001b[0m expanded_amip\n\u001b[1;32m      9\u001b[0m compacted_amip \u001b[38;5;241m=\u001b[39m jsonld\u001b[38;5;241m.\u001b[39mcompact(amip_doc_iri, amip_ctx_iri)\n",
      "\u001b[0;31mNameError\u001b[0m: name 'jsonld' is not defined"
     ]
    }
   ],
   "source": [
    "# Work with a known resource via cmipld’s prefix resolution\n",
    "# If your project uses a different prefix (e.g., 'mip'), replace 'cmip7' accordingly.\n",
    "amip_doc_iri = 'cmip7:experiment/amip'\n",
    "amip_ctx_iri = 'cmip7:experiment/_context_'\n",
    "\n",
    "expanded_amip = jsonld.expand(amip_doc_iri)\n",
    "expanded_amip\n",
    "\n",
    "compacted_amip = jsonld.compact(amip_doc_iri, amip_ctx_iri)\n",
    "compacted_amip"
   ]
  },
  {
   "cell_type": "code",
   "execution_count": 13,
   "id": "amip-to-rdf",
   "metadata": {},
   "outputs": [
    {
     "ename": "NameError",
     "evalue": "name 'jsonld' is not defined",
     "output_type": "error",
     "traceback": [
      "\u001b[0;31m---------------------------------------------------------------------------\u001b[0m",
      "\u001b[0;31mNameError\u001b[0m                                 Traceback (most recent call last)",
      "Cell \u001b[0;32mIn [13], line 2\u001b[0m\n\u001b[1;32m      1\u001b[0m \u001b[38;5;66;03m# RDF for the amip resource\u001b[39;00m\n\u001b[0;32m----> 2\u001b[0m rdf_amip \u001b[38;5;241m=\u001b[39m \u001b[43mjsonld\u001b[49m\u001b[38;5;241m.\u001b[39mto_rdf(amip_doc_iri)\n\u001b[1;32m      3\u001b[0m rdf_amip\n",
      "\u001b[0;31mNameError\u001b[0m: name 'jsonld' is not defined"
     ]
    }
   ],
   "source": [
    "# RDF for the amip resource\n",
    "rdf_amip = jsonld.to_rdf(amip_doc_iri)\n",
    "rdf_amip"
   ]
  },
  {
   "cell_type": "code",
   "execution_count": null,
   "id": "cmipld-get-and-depends",
   "metadata": {},
   "outputs": [],
   "source": [
    "# High-level fetch using cmipld.get, and inspect dependencies\n",
    "amip = cmipld.get(amip_doc_iri)\n",
    "amip\n",
    "\n",
    "deps = cmipld.depends(amip_doc_iri)\n",
    "deps"
   ]
  }
 ],
 "metadata": {
  "kernelspec": {
   "display_name": "base2",
   "language": "python",
   "name": "python3"
  },
  "language_info": {
   "codemirror_mode": {
    "name": "ipython",
    "version": 3
   },
   "file_extension": ".py",
   "mimetype": "text/x-python",
   "name": "python",
   "nbconvert_exporter": "python",
   "pygments_lexer": "ipython3",
   "version": "3.11.0"
  }
 },
 "nbformat": 4,
 "nbformat_minor": 5
}
