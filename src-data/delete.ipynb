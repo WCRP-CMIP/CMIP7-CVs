{
 "cells": [
  {
   "cell_type": "code",
   "execution_count": null,
   "id": "imports",
   "metadata": {},
   "outputs": [],
   "source": [
    "import json\n",
    "from pyld import jsonld\n",
    "import cmipld\n",
    "from cmipld.utils.git import get_repo_url\n",
    "from cmipld.utils.server_tools.offline_patched import LD_server\n",
    "import os"
   ]
  },
  {
   "cell_type": "code",
   "execution_count": null,
   "id": "load-graph",
   "metadata": {},
   "outputs": [],
   "source": [
    "# Load a local JSON-LD document\n",
    "with open('experiment/graph.jsonld', 'r') as f:\n",
    "    gr = json.load(f)\n",
    "\n",
    "gr_ctx = gr.get('@context', {})\n",
    "gr_ctx"
   ]
  },
  {
   "cell_type": "code",
   "execution_count": null,
   "id": "resolve-contexts",
   "metadata": {},
   "outputs": [],
   "source": [
    "# Resolve each context entry in gr['@context'] via cmipld's loader.\n",
    "# For URL contexts, we fetch and try to return the term definition for that key;\n",
    "# if not found, we store the entire fetched @context so you can inspect it.\n",
    "context_results = {}\n",
    "if isinstance(gr_ctx, dict):\n",
    "    for ctx_key, ctx_val in gr_ctx.items():\n",
    "        # Skip embedded dict contexts — they’re already local definitions\n",
    "        if isinstance(ctx_val, dict):\n",
    "            context_results[ctx_key] = ctx_val\n",
    "            continue\n",
    "        try:\n",
    "            loaded = cmipld.loader.loader(ctx_val)\n",
    "            if isinstance(loaded, dict):\n",
    "                loaded_ctx = loaded.get('@context', loaded)\n",
    "                if isinstance(loaded_ctx, dict):\n",
    "                    context_results[ctx_key] = loaded_ctx.get(ctx_key, loaded_ctx)\n",
    "                else:\n",
    "                    context_results[ctx_key] = loaded_ctx\n",
    "            else:\n",
    "                context_results[ctx_key] = loaded\n",
    "        except Exception as e:\n",
    "            context_results[ctx_key] = f\"Error: {e}\"\n",
    "else:\n",
    "    # If @context is a list/IRI, just store it\n",
    "    context_results['@context'] = gr_ctx\n",
    "\n",
    "context_results"
   ]
  },
  {
   "cell_type": "code",
   "execution_count": null,
   "id": "expand-compact-local",
   "metadata": {},
   "outputs": [],
   "source": [
    "# Expand/compact the local document using its own context\n",
    "expanded = jsonld.expand(gr)\n",
    "expanded\n",
    "\n",
    "# Prefer passing just the context (object/IRI), not the full document\n",
    "compacted = jsonld.compact(gr, gr_ctx)\n",
    "compacted"
   ]
  },
  {
   "cell_type": "code",
   "execution_count": null,
   "id": "rdf-and-iris",
   "metadata": {},
   "outputs": [],
   "source": [
    "# Convert to RDF (dataset form) and collect unique IRIs found anywhere in the triples\n",
    "rdf_dataset = jsonld.to_rdf(gr)\n",
    "all_ids = set()\n",
    "for _, triples in rdf_dataset.items():\n",
    "    for triple in triples:\n",
    "        for key in ('subject', 'predicate', 'object'):\n",
    "            term = triple[key]\n",
    "            if term.get('type') == 'IRI':\n",
    "                all_ids.add(term['value'])\n",
    "\n", 
    "sorted_all_ids = sorted(all_ids)\n",
    "for iri in sorted_all_ids:\n",
    "    print(iri)\n"
   ]
  },
  {
   "cell_type": "code",
   "execution_count": null,
   "id": "linked-object-iris",
   "metadata": {},
   "outputs": [],
   "source": [
    "# Collect only linked object IRIs\n",
    "rdf_dataset2 = jsonld.to_rdf(gr)\n",
    "linked_ids = set()\n",
    "for _, triples in rdf_dataset2.items():\n",
    "    for triple in triples:\n",
    "        obj = triple['object']\n",
    "        if obj.get('type') == 'IRI':\n",
    "            linked_ids.add(obj['value'])\n",
    "\n",
    "for iri in sorted(linked_ids):\n",
    "    print(iri)\n"
   ]
  },
  {
   "cell_type": "code",
   "execution_count": null,
   "id": "repo-and-prefix",
   "metadata": {},
   "outputs": [],
   "source": [
    "# Discover the current repo and reverse mapping to a prefix known by cmipld\n",
    "repo_url = get_repo_url()\n",
    "prefix = cmipld.reverse_direct[repo_url]\n",
    "repo_url, prefix"
   ]
  },
  {
   "cell_type": "code",
   "execution_count": null,
   "id": "offline-server",
   "metadata": {},
   "outputs": [],
   "source": [
    "# Serve the local repo as a JSON-LD endpoint (handy for offline work)\n",
    "location = os.getcwd()\n",
    "local = [(location, cmipld.mapping[prefix], prefix)]\n",
    "server = LD_server(copy=local, use_ssl=False)\n",
    "base_url = server.start_server(port=8081)  # may pick a different port if 8081 is busy\n",
    "base_url"
   ]
  },
  {
   "cell_type": "code",
   "execution_count": null,
   "id": "cmip7-amip-expand-compact",
   "metadata": {},
   "outputs": [],
   "source": [
    "# Work with a known resource via cmipld’s prefix resolution\n",
    "# If your project uses a different prefix (e.g., 'mip'), replace 'cmip7' accordingly.\n",
    "amip_doc_iri = 'cmip7:experiment/amip'\n",
    "amip_ctx_iri = 'cmip7:experiment/_context_'\n",
    "\n",
    "expanded_amip = jsonld.expand(amip_doc_iri)\n",
    "expanded_amip\n",
    "\n",
    "compacted_amip = jsonld.compact(amip_doc_iri, amip_ctx_iri)\n",
    "compacted_amip"
   ]
  },
  {
   "cell_type": "code",
   "execution_count": null,
   "id": "amip-to-rdf",
   "metadata": {},
   "outputs": [],
   "source": [
    "# RDF for the amip resource\n",
    "rdf_amip = jsonld.to_rdf(amip_doc_iri)\n",
    "rdf_amip"
   ]
  },
  {
   "cell_type": "code",
   "execution_count": null,
   "id": "cmipld-get-and-depends",
   "metadata": {},
   "outputs": [],
   "source": [
    "# High-level fetch using cmipld.get, and inspect dependencies\n",
    "amip = cmipld.get(amip_doc_iri)\n",
    "amip\n",
    "\n",
    "deps = cmipld.depends(amip_doc_iri)\n",
    "deps"
   ]
  }
 ],
 "metadata": {
  "kernelspec": {
   "display_name": "base2",
   "language": "python",
   "name": "python3"
  },
  "language_info": {
   "codemirror_mode": {
    "name": "ipython",
    "version": 3
   },
   "file_extension": ".py",
   "mimetype": "text/x-python",
   "name": "python",
   "nbconvert_exporter": "python",
   "pygments_lexer": "ipython3",
   "version": "3.11.0"
  }
 },
 "nbformat": 4,
 "nbformat_minor": 5
}
