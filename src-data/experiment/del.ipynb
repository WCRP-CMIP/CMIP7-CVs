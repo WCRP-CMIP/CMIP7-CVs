{
 "cells": [
  {
   "cell_type": "code",
   "execution_count": null,
   "metadata": {},
   "outputs": [],
   "source": [
    "import os\n",
    "import json\n",
    "\n",
    "# Specify the directory containing the JSON files\n",
    "directory = \".\"\n",
    "\n",
    "# Iterate through all files in the directory\n",
    "for filename in os.listdir(directory):\n",
    "    if filename.endswith(\".json\"):\n",
    "        filepath = os.path.join(directory, filename)\n",
    "        \n",
    "        # Read the JSON file\n",
    "        with open(filepath, \"r\") as file:\n",
    "            try:\n",
    "                data = json.load(file)\n",
    "                data['activity'][0] = data['activity'][0].lower().replace(\"_\", \"-\")\n",
    "                data['parent-experiment'][0] = data['parent-experiment'][0].lower().replace(\"_\", \"-\")\n",
    "                \n",
    "                data['sub-experiment'] = 1\n",
    "                del data['sub-experiment']\n",
    "                \n",
    "                data['parent-activity'] = 1\n",
    "                del data['parent-activity']\n",
    "                \n",
    "                \n",
    "            except json.JSONDecodeError as e:\n",
    "                print(f\"Error decoding JSON in file {filename}: {e}\")\n",
    "                continue\n",
    "        \n",
    "        # Print the keys of the JSON object\n",
    "        # print(f\"Keys in {filename}: {list(data.keys())}\")\n",
    "\n",
    "        # break\n",
    "        \n",
    "        # Write the JSON file back in place\n",
    "        with open(filepath, \"w\") as file:\n",
    "            json.dump(data, file, indent=4)"
   ]
  },
  {
   "cell_type": "code",
   "execution_count": null,
   "metadata": {},
   "outputs": [],
   "source": []
  }
 ],
 "metadata": {
  "kernelspec": {
   "display_name": "base",
   "language": "python",
   "name": "python3"
  },
  "language_info": {
   "codemirror_mode": {
    "name": "ipython",
    "version": 3
   },
   "file_extension": ".py",
   "mimetype": "text/x-python",
   "name": "python",
   "nbconvert_exporter": "python",
   "pygments_lexer": "ipython3",
   "version": "3.10.10"
  }
 },
 "nbformat": 4,
 "nbformat_minor": 2
}
