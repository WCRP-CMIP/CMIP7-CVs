{
 "cells": [
  {
   "cell_type": "code",
   "execution_count": 1,
   "metadata": {},
   "outputs": [],
   "source": [
    "import json, os , glob"
   ]
  },
  {
   "cell_type": "code",
   "execution_count": 4,
   "metadata": {},
   "outputs": [],
   "source": [
    "f = glob.glob('*.json')\n"
   ]
  },
  {
   "cell_type": "code",
   "execution_count": null,
   "metadata": {},
   "outputs": [],
   "source": [
    "for i in f:\n",
    "    data = json.load(open(i))\n",
    "    data['model_realms'] = []\n",
    "    \n",
    "    if data.get('name').lower() == data['id']:\n",
    "        data['label'] = data['name']\n",
    "        data['long_label'] = f'Describe {data['name']} in one sentence.'\n",
    "    else:\n",
    "        data['long_label'] = data['name']\n",
    "        data['label'] = data['id']\n",
    "        \n",
    "    del data['name']\n",
    "    \n",
    "    json.dump(data, open(i, 'w'), indent=4)\n",
    "    print(f'Updated {i}')\n",
    "    "
   ]
  }
 ],
 "metadata": {
  "kernelspec": {
   "display_name": "base",
   "language": "python",
   "name": "python3"
  },
  "language_info": {
   "codemirror_mode": {
    "name": "ipython",
    "version": 3
   },
   "file_extension": ".py",
   "mimetype": "text/x-python",
   "name": "python",
   "nbconvert_exporter": "python",
   "pygments_lexer": "ipython3",
   "version": "3.10.10"
  }
 },
 "nbformat": 4,
 "nbformat_minor": 2
}
