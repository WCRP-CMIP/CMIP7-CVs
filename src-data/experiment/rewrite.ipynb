{
 "cells": [
  {
   "cell_type": "code",
   "execution_count": 1,
   "metadata": {},
   "outputs": [],
   "source": [
    "import glob, re, json"
   ]
  },
  {
   "cell_type": "code",
   "execution_count": 2,
   "metadata": {},
   "outputs": [
    {
     "data": {
      "text/plain": [
       "['amip-p4k.json',\n",
       " 'piclim-histall.json',\n",
       " 'hist-nat.json',\n",
       " 'piclim-n2o.json',\n",
       " 'esm-hist.json',\n",
       " 'piclim-voc.json',\n",
       " 'esm-flat10-cdr.json',\n",
       " 'initialised-prediction-2025-2036.json',\n",
       " 'abrupt-0p5co2.json',\n",
       " 'low-scenario.json',\n",
       " 'piclim-hc.json',\n",
       " 'hist-ghg.json',\n",
       " '1pctco2.json',\n",
       " 'esm-flat10-zec.json',\n",
       " 'land-hist.json',\n",
       " 'piclim-4xco2.json',\n",
       " 'picontrol.json',\n",
       " 'hist-pislcf.json',\n",
       " 'historical.json',\n",
       " 'esm-picontrol.json',\n",
       " '1pctco2-rad.json',\n",
       " 'hist-piaer.json',\n",
       " 'medium-scenario-and-extension.json',\n",
       " 'abrupt-4xco2.json',\n",
       " 'very-low-scenario.json',\n",
       " 'high-scenario.json',\n",
       " 'piclim-so2.json',\n",
       " 'low-overshoot-scenario.json',\n",
       " '1pctco2-bgc.json',\n",
       " 'hist-aer.json',\n",
       " 'piclim-nox.json',\n",
       " 'amip.json',\n",
       " 'piclim-anthro.json',\n",
       " 'g7-15k-sai.json',\n",
       " 'amip-piforcing.json',\n",
       " 'piclim-histaer.json',\n",
       " 'piclim-ch4.json',\n",
       " 'sspx-slcf.json',\n",
       " 'abrupt-2xco2.json',\n",
       " 'piclim-control.json',\n",
       " 'ligabrupt.json',\n",
       " 'piclim-aer.json']"
      ]
     },
     "execution_count": 2,
     "metadata": {},
     "output_type": "execute_result"
    }
   ],
   "source": [
    "files = glob.glob('*.json')\n",
    "files"
   ]
  },
  {
   "cell_type": "code",
   "execution_count": null,
   "metadata": {},
   "outputs": [],
   "source": [
    "template = {\n",
    "  \"@context\": \"_context_\",\n",
    "  \"id\": \"\",\n",
    "  \"type\": \"experiment\",\n",
    "  \"activity\": [\n",
    "  ],\n",
    "  \"description\": \"\",\n",
    "  \"model_realms\": {\n",
    "  },\n",
    "  \"name\": \"\",\n",
    "  \"parameters\": {\n",
    "    \"end\": -999,\n",
    "    \"min-number-yrs-per-sim\": -999,\n",
    "    \"start\": -999,\n",
    "    \"id\": \"additional_parameters\"\n",
    "  },\n",
    "  \"parent_activity\": [\n",
    "    \"none\"\n",
    "  ],\n",
    "  \"parent_experiment\": [\n",
    "    \"none\"\n",
    "  ],\n",
    "  \"sub_experiment\": [\n",
    "    \"none\"\n",
    "  ],\n",
    "  \"tier\": -1\n",
    "}\n"
   ]
  },
  {
   "cell_type": "code",
   "execution_count": null,
   "metadata": {},
   "outputs": [],
   "source": [
    "for file in files:\n",
    "    data = json.load(open(file))\n",
    "    \n",
    "    "
   ]
  }
 ],
 "metadata": {
  "kernelspec": {
   "display_name": "base",
   "language": "python",
   "name": "python3"
  },
  "language_info": {
   "codemirror_mode": {
    "name": "ipython",
    "version": 3
   },
   "file_extension": ".py",
   "mimetype": "text/x-python",
   "name": "python",
   "nbconvert_exporter": "python",
   "pygments_lexer": "ipython3",
   "version": "3.10.10"
  }
 },
 "nbformat": 4,
 "nbformat_minor": 2
}
