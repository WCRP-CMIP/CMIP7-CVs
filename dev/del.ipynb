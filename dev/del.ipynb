{
 "cells": [
  {
   "cell_type": "code",
   "execution_count": 1,
   "id": "5cab041c",
   "metadata": {},
   "outputs": [],
   "source": [
    "import cmipld\n",
    "from cmipld.utils.server_tools.offline import LD_server\n",
    "from cmipld.utils.git.repo_info import cmip_info\n",
    "\n"
   ]
  },
  {
   "cell_type": "code",
   "execution_count": 2,
   "id": "3be8d940",
   "metadata": {},
   "outputs": [
    {
     "name": "stdout",
     "output_type": "stream",
     "text": [
      "make test for url2io\n"
     ]
    },
    {
     "data": {
      "text/html": [
       "<pre style=\"white-space:pre;overflow-x:auto;line-height:normal;font-family:Menlo,'DejaVu Sans Mono',consolas,'Courier New',monospace\">                            <span style=\"color: #000080; text-decoration-color: #000080\">╭─────────────────── </span><span style=\"color: #808000; text-decoration-color: #808000; font-weight: bold\">Repository Info</span><span style=\"color: #000080; text-decoration-color: #000080\"> ────────────────────╮</span>                             \n",
       "                            <span style=\"color: #000080; text-decoration-color: #000080\">│</span>                  <span style=\"color: #008080; text-decoration-color: #008080; font-weight: bold\">Parsing repo:</span> cmip7                   <span style=\"color: #000080; text-decoration-color: #000080\">│</span>                             \n",
       "                            <span style=\"color: #000080; text-decoration-color: #000080\">│</span>    <span style=\"color: #800080; text-decoration-color: #800080; font-weight: bold\">Location:</span> https://github.com/WCRP-CMIP/CMIP7-CVs    <span style=\"color: #000080; text-decoration-color: #000080\">│</span>                             \n",
       "                            <span style=\"color: #000080; text-decoration-color: #000080\">│</span> <span style=\"color: #800000; text-decoration-color: #800000; font-weight: bold\">Github IO link:</span> https://wcrp-cmip.github.io/CMIP7-CVs/ <span style=\"color: #000080; text-decoration-color: #000080\">│</span>                             \n",
       "                            <span style=\"color: #000080; text-decoration-color: #000080\">╰────────────────────────────────────────────────────────╯</span>                             \n",
       "</pre>\n"
      ],
      "text/plain": [
       "                            \u001b[34m╭─\u001b[0m\u001b[34m──────────────────\u001b[0m\u001b[34m \u001b[0m\u001b[1;33mRepository Info\u001b[0m\u001b[34m \u001b[0m\u001b[34m───────────────────\u001b[0m\u001b[34m─╮\u001b[0m                             \n",
       "                            \u001b[34m│\u001b[0m                  \u001b[1;36mParsing repo:\u001b[0m cmip7                   \u001b[34m│\u001b[0m                             \n",
       "                            \u001b[34m│\u001b[0m    \u001b[1;35mLocation:\u001b[0m https://github.com/WCRP-CMIP/CMIP7-CVs    \u001b[34m│\u001b[0m                             \n",
       "                            \u001b[34m│\u001b[0m \u001b[1;31mGithub IO link:\u001b[0m https://wcrp-cmip.github.io/CMIP7-CVs/ \u001b[34m│\u001b[0m                             \n",
       "                            \u001b[34m╰────────────────────────────────────────────────────────╯\u001b[0m                             \n"
      ]
     },
     "metadata": {},
     "output_type": "display_data"
    }
   ],
   "source": [
    "repo = cmip_info()\n",
    "# allow. this. to. take. arguments\n"
   ]
  },
  {
   "cell_type": "code",
   "execution_count": 3,
   "id": "e719c9f7",
   "metadata": {},
   "outputs": [
    {
     "name": "stdout",
     "output_type": "stream",
     "text": [
      "Added redirect: wcrp-cmip.github.io | re.compile('^(?!.*(_context_|\\\\.json(?:ld)?|\\\\/)$).*') -> \\g<0>.json\n",
      "Added redirect: wcrp-cmip.github.io | re.compile('^https://wcrp-cmip.github.io/CMIP7-CVs/') -> https://localhost:8084/cmip7/\n",
      "Added redirect: wcrp-cmip.github.io | re.compile('^https://wcrp-cmip.github.io/WCRP-universe/') -> https://localhost:8084/universal/\n"
     ]
    },
    {
     "name": "stderr",
     "output_type": "stream",
     "text": [
      "-----\n"
     ]
    },
    {
     "data": {
      "text/html": [
       "<pre style=\"white-space:pre;overflow-x:auto;line-height:normal;font-family:Menlo,'DejaVu Sans Mono',consolas,'Courier New',monospace\"><span style=\"color: #008000; text-decoration-color: #008000\">╭─────────────────────────────────────────────── Prefix Resolvers ────────────────────────────────────────────────╮</span>\n",
       "<span style=\"color: #008000; text-decoration-color: #008000\">│</span> <span style=\"color: #008080; text-decoration-color: #008080\">cf</span>: https://wcrp-cmip.github.io/CF/                                                                             <span style=\"color: #008000; text-decoration-color: #008000\">│</span>\n",
       "<span style=\"color: #008000; text-decoration-color: #008000\">│</span> <span style=\"color: #008080; text-decoration-color: #008080\">cmip7</span>: https://wcrp-cmip.github.io/CMIP7-CVs/                                                                   <span style=\"color: #008000; text-decoration-color: #008000\">│</span>\n",
       "<span style=\"color: #008000; text-decoration-color: #008000\">│</span> <span style=\"color: #008080; text-decoration-color: #008080\">obs4mips</span>: https://wolfiex.github.io/obs4MIPs-cmor-tables-ld/                                                    <span style=\"color: #008000; text-decoration-color: #008000\">│</span>\n",
       "<span style=\"color: #008000; text-decoration-color: #008000\">│</span> <span style=\"color: #008080; text-decoration-color: #008080\">universal</span>: https://wcrp-cmip.github.io/WCRP-universe/                                                           <span style=\"color: #008000; text-decoration-color: #008000\">│</span>\n",
       "<span style=\"color: #008000; text-decoration-color: #008000\">│</span> <span style=\"color: #008080; text-decoration-color: #008080\">variables</span>: https://wcrp-cmip.github.io/MIP-variables/                                                           <span style=\"color: #008000; text-decoration-color: #008000\">│</span>\n",
       "<span style=\"color: #008000; text-decoration-color: #008000\">│</span> <span style=\"color: #008080; text-decoration-color: #008080\">cmip6plus</span>: https://wcrp-cmip.github.io/CMIP6Plus_CVs/                                                           <span style=\"color: #008000; text-decoration-color: #008000\">│</span>\n",
       "<span style=\"color: #008000; text-decoration-color: #008000\">╰─────────────────────────────────────────────────────────────────────────────────────────────────────────────────╯</span>\n",
       "</pre>\n"
      ],
      "text/plain": [
       "\u001b[32m╭─\u001b[0m\u001b[32m──────────────────────────────────────────────\u001b[0m\u001b[32m Prefix Resolvers \u001b[0m\u001b[32m───────────────────────────────────────────────\u001b[0m\u001b[32m─╮\u001b[0m\n",
       "\u001b[32m│\u001b[0m \u001b[36mcf\u001b[0m: https://wcrp-cmip.github.io/CF/                                                                             \u001b[32m│\u001b[0m\n",
       "\u001b[32m│\u001b[0m \u001b[36mcmip7\u001b[0m: https://wcrp-cmip.github.io/CMIP7-CVs/                                                                   \u001b[32m│\u001b[0m\n",
       "\u001b[32m│\u001b[0m \u001b[36mobs4mips\u001b[0m: https://wolfiex.github.io/obs4MIPs-cmor-tables-ld/                                                    \u001b[32m│\u001b[0m\n",
       "\u001b[32m│\u001b[0m \u001b[36muniversal\u001b[0m: https://wcrp-cmip.github.io/WCRP-universe/                                                           \u001b[32m│\u001b[0m\n",
       "\u001b[32m│\u001b[0m \u001b[36mvariables\u001b[0m: https://wcrp-cmip.github.io/MIP-variables/                                                           \u001b[32m│\u001b[0m\n",
       "\u001b[32m│\u001b[0m \u001b[36mcmip6plus\u001b[0m: https://wcrp-cmip.github.io/CMIP6Plus_CVs/                                                           \u001b[32m│\u001b[0m\n",
       "\u001b[32m╰─────────────────────────────────────────────────────────────────────────────────────────────────────────────────╯\u001b[0m\n"
      ]
     },
     "metadata": {},
     "output_type": "display_data"
    },
    {
     "data": {
      "text/html": [
       "<pre style=\"white-space:pre;overflow-x:auto;line-height:normal;font-family:Menlo,'DejaVu Sans Mono',consolas,'Courier New',monospace\"><span style=\"font-style: italic\">                                        Regex-Based URL Redirects (by Host)                                        </span>\n",
       "┏━━━━━━━━━━━━━━━━━━━━━━━━━━━━━━━━━━━━┳━━━━━━━━━━━━━━━━━━━━━━━━━━━━━━━━━━━━━━━━━━━━━━━━━━━━━━━━━━━━━━━━━━━━━━━━━━━━┓\n",
       "┃<span style=\"font-weight: bold\">                Host                </span>┃<span style=\"font-weight: bold\"> Rules                                                                      </span>┃\n",
       "┡━━━━━━━━━━━━━━━━━━━━━━━━━━━━━━━━━━━━╇━━━━━━━━━━━━━━━━━━━━━━━━━━━━━━━━━━━━━━━━━━━━━━━━━━━━━━━━━━━━━━━━━━━━━━━━━━━━┩\n",
       "│<span style=\"color: #008080; text-decoration-color: #008080\"> ╭────────────────────────────╮     </span>│<span style=\"color: #800080; text-decoration-color: #800080\"> ╭────────────────────────────────────────────────────────────────────────╮ </span>│\n",
       "│<span style=\"color: #008080; text-decoration-color: #008080\"> │    wcrp-cmip.github.io     │     </span>│<span style=\"color: #800080; text-decoration-color: #800080\"> │ </span><span style=\"color: #800080; text-decoration-color: #800080; font-weight: bold\">Match:</span><span style=\"color: #800080; text-decoration-color: #800080\"> re.compile('^(?!.*(_context_|\\\\.json(?:ld)?|\\\\/)$).*')          │ </span>│\n",
       "│<span style=\"color: #008080; text-decoration-color: #008080\"> ╰────────────────────────────╯     </span>│<span style=\"color: #800080; text-decoration-color: #800080\"> │ </span><span style=\"color: #800080; text-decoration-color: #800080; font-weight: bold\">Replace:</span><span style=\"color: #800080; text-decoration-color: #800080\"> \\g&lt;0&gt;.json                                                    │ </span>│\n",
       "│<span style=\"color: #008080; text-decoration-color: #008080\">                                    </span>│<span style=\"color: #800080; text-decoration-color: #800080\"> ╰────────────────────────────────────────────────────────────────────────╯ </span>│\n",
       "│<span style=\"color: #008080; text-decoration-color: #008080\">                                    </span>│<span style=\"color: #800080; text-decoration-color: #800080\"> ╭────────────────────────────────────────────────────────────────────────╮ </span>│\n",
       "│<span style=\"color: #008080; text-decoration-color: #008080\">                                    </span>│<span style=\"color: #800080; text-decoration-color: #800080\"> │ </span><span style=\"color: #800080; text-decoration-color: #800080; font-weight: bold\">Match:</span><span style=\"color: #800080; text-decoration-color: #800080\"> re.compile('^https://wcrp-cmip.github.io/CMIP7-CVs/')           │ </span>│\n",
       "│<span style=\"color: #008080; text-decoration-color: #008080\">                                    </span>│<span style=\"color: #800080; text-decoration-color: #800080\"> │ </span><span style=\"color: #800080; text-decoration-color: #800080; font-weight: bold\">Replace:</span><span style=\"color: #800080; text-decoration-color: #800080\"> https://localhost:8084/cmip7/                                 │ </span>│\n",
       "│<span style=\"color: #008080; text-decoration-color: #008080\">                                    </span>│<span style=\"color: #800080; text-decoration-color: #800080\"> ╰────────────────────────────────────────────────────────────────────────╯ </span>│\n",
       "│<span style=\"color: #008080; text-decoration-color: #008080\">                                    </span>│<span style=\"color: #800080; text-decoration-color: #800080\"> ╭────────────────────────────────────────────────────────────────────────╮ </span>│\n",
       "│<span style=\"color: #008080; text-decoration-color: #008080\">                                    </span>│<span style=\"color: #800080; text-decoration-color: #800080\"> │ </span><span style=\"color: #800080; text-decoration-color: #800080; font-weight: bold\">Match:</span><span style=\"color: #800080; text-decoration-color: #800080\"> re.compile('^https://wcrp-cmip.github.io/WCRP-universe/')       │ </span>│\n",
       "│<span style=\"color: #008080; text-decoration-color: #008080\">                                    </span>│<span style=\"color: #800080; text-decoration-color: #800080\"> │ </span><span style=\"color: #800080; text-decoration-color: #800080; font-weight: bold\">Replace:</span><span style=\"color: #800080; text-decoration-color: #800080\"> https://localhost:8084/universal/                             │ </span>│\n",
       "│<span style=\"color: #008080; text-decoration-color: #008080\">                                    </span>│<span style=\"color: #800080; text-decoration-color: #800080\"> ╰────────────────────────────────────────────────────────────────────────╯ </span>│\n",
       "└────────────────────────────────────┴────────────────────────────────────────────────────────────────────────────┘\n",
       "</pre>\n"
      ],
      "text/plain": [
       "\u001b[3m                                        Regex-Based URL Redirects (by Host)                                        \u001b[0m\n",
       "┏━━━━━━━━━━━━━━━━━━━━━━━━━━━━━━━━━━━━┳━━━━━━━━━━━━━━━━━━━━━━━━━━━━━━━━━━━━━━━━━━━━━━━━━━━━━━━━━━━━━━━━━━━━━━━━━━━━┓\n",
       "┃\u001b[1m \u001b[0m\u001b[1m               Host               \u001b[0m\u001b[1m \u001b[0m┃\u001b[1m \u001b[0m\u001b[1mRules                                                                     \u001b[0m\u001b[1m \u001b[0m┃\n",
       "┡━━━━━━━━━━━━━━━━━━━━━━━━━━━━━━━━━━━━╇━━━━━━━━━━━━━━━━━━━━━━━━━━━━━━━━━━━━━━━━━━━━━━━━━━━━━━━━━━━━━━━━━━━━━━━━━━━━┩\n",
       "│\u001b[36m \u001b[0m\u001b[36m╭────────────────────────────╮\u001b[0m\u001b[36m    \u001b[0m\u001b[36m \u001b[0m│\u001b[35m \u001b[0m\u001b[35m╭────────────────────────────────────────────────────────────────────────╮\u001b[0m\u001b[35m \u001b[0m│\n",
       "│\u001b[36m \u001b[0m\u001b[36m│\u001b[0m\u001b[36m \u001b[0m\u001b[36m   wcrp-cmip.github.io    \u001b[0m\u001b[36m \u001b[0m\u001b[36m│\u001b[0m\u001b[36m    \u001b[0m\u001b[36m \u001b[0m│\u001b[35m \u001b[0m\u001b[35m│\u001b[0m\u001b[35m \u001b[0m\u001b[1;35mMatch:\u001b[0m\u001b[35m re.compile('^(?!.*(_context_|\\\\.json(?:ld)?|\\\\/)$).*')         \u001b[0m\u001b[35m \u001b[0m\u001b[35m│\u001b[0m\u001b[35m \u001b[0m│\n",
       "│\u001b[36m \u001b[0m\u001b[36m╰────────────────────────────╯\u001b[0m\u001b[36m    \u001b[0m\u001b[36m \u001b[0m│\u001b[35m \u001b[0m\u001b[35m│\u001b[0m\u001b[35m \u001b[0m\u001b[1;35mReplace:\u001b[0m\u001b[35m \\g<0>.json                                                   \u001b[0m\u001b[35m \u001b[0m\u001b[35m│\u001b[0m\u001b[35m \u001b[0m│\n",
       "│\u001b[36m                                    \u001b[0m│\u001b[35m \u001b[0m\u001b[35m╰────────────────────────────────────────────────────────────────────────╯\u001b[0m\u001b[35m \u001b[0m│\n",
       "│\u001b[36m                                    \u001b[0m│\u001b[35m \u001b[0m\u001b[35m╭────────────────────────────────────────────────────────────────────────╮\u001b[0m\u001b[35m \u001b[0m│\n",
       "│\u001b[36m                                    \u001b[0m│\u001b[35m \u001b[0m\u001b[35m│\u001b[0m\u001b[35m \u001b[0m\u001b[1;35mMatch:\u001b[0m\u001b[35m re.compile('^https://wcrp-cmip.github.io/CMIP7-CVs/')          \u001b[0m\u001b[35m \u001b[0m\u001b[35m│\u001b[0m\u001b[35m \u001b[0m│\n",
       "│\u001b[36m                                    \u001b[0m│\u001b[35m \u001b[0m\u001b[35m│\u001b[0m\u001b[35m \u001b[0m\u001b[1;35mReplace:\u001b[0m\u001b[35m https://localhost:8084/cmip7/                                \u001b[0m\u001b[35m \u001b[0m\u001b[35m│\u001b[0m\u001b[35m \u001b[0m│\n",
       "│\u001b[36m                                    \u001b[0m│\u001b[35m \u001b[0m\u001b[35m╰────────────────────────────────────────────────────────────────────────╯\u001b[0m\u001b[35m \u001b[0m│\n",
       "│\u001b[36m                                    \u001b[0m│\u001b[35m \u001b[0m\u001b[35m╭────────────────────────────────────────────────────────────────────────╮\u001b[0m\u001b[35m \u001b[0m│\n",
       "│\u001b[36m                                    \u001b[0m│\u001b[35m \u001b[0m\u001b[35m│\u001b[0m\u001b[35m \u001b[0m\u001b[1;35mMatch:\u001b[0m\u001b[35m re.compile('^https://wcrp-cmip.github.io/WCRP-universe/')      \u001b[0m\u001b[35m \u001b[0m\u001b[35m│\u001b[0m\u001b[35m \u001b[0m│\n",
       "│\u001b[36m                                    \u001b[0m│\u001b[35m \u001b[0m\u001b[35m│\u001b[0m\u001b[35m \u001b[0m\u001b[1;35mReplace:\u001b[0m\u001b[35m https://localhost:8084/universal/                            \u001b[0m\u001b[35m \u001b[0m\u001b[35m│\u001b[0m\u001b[35m \u001b[0m│\n",
       "│\u001b[36m                                    \u001b[0m│\u001b[35m \u001b[0m\u001b[35m╰────────────────────────────────────────────────────────────────────────╯\u001b[0m\u001b[35m \u001b[0m│\n",
       "└────────────────────────────────────┴────────────────────────────────────────────────────────────────────────────┘\n"
      ]
     },
     "metadata": {},
     "output_type": "display_data"
    }
   ],
   "source": [
    "\n",
    "# localserver = LD_server( copy=[\n",
    "#                     [ldpath, io_url, whoami]], override='y')\n",
    "localserver = LD_server( copy=[\n",
    "                            [repo.path+'/src-data/', repo.io, repo.whoami],\n",
    "                            ['/Users/daniel.ellis/WIPwork/WCRP-universe/src-data/', repo.io.replace('CMIP7-CVs','WCRP-universe'), 'universal'],\n",
    "                        ], override='y')\n",
    "\n",
    "localhost = localserver.start_server(8084)\n"
   ]
  },
  {
   "cell_type": "code",
   "execution_count": 8,
   "id": "4231da76",
   "metadata": {},
   "outputs": [],
   "source": [
    "url = f'cmip7:project/activity-list'"
   ]
  },
  {
   "cell_type": "code",
   "execution_count": null,
   "id": "ecbf84d8",
   "metadata": {},
   "outputs": [
    {
     "name": "stdout",
     "output_type": "stream",
     "text": [
      "Original URL: cmip7:project/activity-list\n",
      "Final URL: https://localhost:8084/cmip7/project/activity-list.json\n",
      "Status Code: 200\n",
      "{\n",
      "    \"@context\": [\n",
      "        \"_context_\"\n",
      "    ],\n",
      "    \"id\": \"activity-list\",\n",
      "    \"type\": [\n",
      "        \"wcrp:project\",\n",
      "        \"cmip7\",\n",
      "        \"wcrp:activity\"\n",
      "    ],\n",
      "    \"activity\": [\n",
      "        \"aerchemmip\",\n",
      "        \"c4mip\",\n",
      "        \"cfmip\",\n",
      "        \"cmip\",\n",
      "        \"damip\",\n",
      "        \"dcpp\",\n",
      "        \"geomip\",\n"
     ]
    }
   ],
   "source": [
    "localserver.server.test(url=url,result=True)\n",
    "\n"
   ]
  },
  {
   "cell_type": "code",
   "execution_count": 5,
   "id": "bd22502a",
   "metadata": {},
   "outputs": [],
   "source": [
    "# url = f'cmip7:experiment/graph.json'\n",
    "# # log.debug(f'url: {url}')\n",
    "\n",
    "# data = cmipld.get(url,depth=1)\n",
    "# data"
   ]
  },
  {
   "cell_type": "code",
   "execution_count": 6,
   "id": "2829665a",
   "metadata": {},
   "outputs": [],
   "source": [
    "from cmipld.utils.ldparse import *\n"
   ]
  },
  {
   "cell_type": "code",
   "execution_count": 7,
   "id": "064b2692",
   "metadata": {},
   "outputs": [
    {
     "ename": "NameError",
     "evalue": "name 'data' is not defined",
     "output_type": "error",
     "traceback": [
      "\u001b[0;31m---------------------------------------------------------------------------\u001b[0m",
      "\u001b[0;31mNameError\u001b[0m                                 Traceback (most recent call last)",
      "Cell \u001b[0;32mIn[7], line 1\u001b[0m\n\u001b[0;32m----> 1\u001b[0m get_entry(\u001b[43mdata\u001b[49m[\u001b[38;5;124m'\u001b[39m\u001b[38;5;124mactivity\u001b[39m\u001b[38;5;124m'\u001b[39m])\n",
      "\u001b[0;31mNameError\u001b[0m: name 'data' is not defined"
     ]
    }
   ],
   "source": [
    "get_entry(data['activity'])"
   ]
  },
  {
   "cell_type": "code",
   "execution_count": null,
   "id": "966eb4fb",
   "metadata": {},
   "outputs": [],
   "source": [
    "name_entry(data['activity'])"
   ]
  },
  {
   "cell_type": "code",
   "execution_count": null,
   "id": "b6a576ec",
   "metadata": {},
   "outputs": [
    {
     "data": {
      "text/plain": [
       "'cmip7:project/activity-list.json'"
      ]
     },
     "execution_count": 14,
     "metadata": {},
     "output_type": "execute_result"
    }
   ],
   "source": [
    "import re\n",
    "a = re.compile('^(?!.*(_context_|\\\\.json(?:ld)?|\\/)$).*')    \n",
    "a.sub(r'\\g<0>.json',f'cmip7:project/activity-list')\n"
   ]
  },
  {
   "cell_type": "code",
   "execution_count": null,
   "id": "9e344a35",
   "metadata": {},
   "outputs": [],
   "source": []
  }
 ],
 "metadata": {
  "kernelspec": {
   "display_name": "base",
   "language": "python",
   "name": "python3"
  },
  "language_info": {
   "codemirror_mode": {
    "name": "ipython",
    "version": 3
   },
   "file_extension": ".py",
   "mimetype": "text/x-python",
   "name": "python",
   "nbconvert_exporter": "python",
   "pygments_lexer": "ipython3",
   "version": "3.10.10"
  }
 },
 "nbformat": 4,
 "nbformat_minor": 5
}
