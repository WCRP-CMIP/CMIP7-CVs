{
 "cells": [
  {
   "cell_type": "code",
   "execution_count": null,
   "id": "a5eddadc",
   "metadata": {},
   "outputs": [
    {
     "ename": "SyntaxError",
     "evalue": "expected 'except' or 'finally' block (4285438454.py, line 32)",
     "output_type": "error",
     "traceback": [
      "\u001b[0;36m  Cell \u001b[0;32mIn[9], line 32\u001b[0;36m\u001b[0m\n\u001b[0;31m    def get_issue_details(repo, issue_number):\u001b[0m\n\u001b[0m                                              ^\u001b[0m\n\u001b[0;31mSyntaxError\u001b[0m\u001b[0;31m:\u001b[0m expected 'except' or 'finally' block\n"
     ]
    }
   ],
   "source": [
    "import subprocess\n",
    "import json\n",
    "\n",
    "def get_repo():\n",
    "    \"\"\"Auto-detect current GitHub repo (owner/repo format)\"\"\"\n",
    "    result = subprocess.run(\n",
    "        [\"gh\", \"repo\", \"view\", \"--json\", \"nameWithOwner\", \"--jq\", \".nameWithOwner\"],\n",
    "        capture_output=True, text=True, check=True\n",
    "    )\n",
    "    return result.stdout.strip()\n",
    "\n",
    "def get_open_issue_numbers(repo):\n",
    "    \"\"\"Get all open issue numbers, skipping pull requests\"\"\"\n",
    "    try:\n",
    "        result = subprocess.run(\n",
    "            [\n",
    "                \"gh\", \"issue\", \"list\",\n",
    "                \"--repo\", repo,\n",
    "                \"--state\", \"open\",  # Only fetch open issues\n",
    "                \"--limit\", \"1000\",\n",
    "                \"--json\", \"number,title,labels,assignee,state\",\n",
    "                \"--jq\", '.[] | select(.state == \"open\") | .number'  # Only select open issues\n",
    "            ],\n",
    "            capture_output=True, text=True, check=True\n",
    "        )\n",
    "        \n",
    "        # Split the result by lines and filter out empty lines (if any)\n",
    "        issue_numbers = result.stdout.strip().splitlines()\n",
    "        return [issue_number.strip() for issue_number in issue_numbers if issue_number.strip()]\n",
    "    except subprocess.CalledProcessError as e:\n",
    "        print(f\"Error: Failed to fetch open issues for repo '{repo}'.\\n{e.stderr}\")\n",
    "        return []\n",
    "\n",
    "def get_issue_details(repo, issue_number):\n",
    "    \"\"\"Fetch detailed information for a single issue\"\"\"\n",
    "    try:\n",
    "        result = subprocess.run(\n",
    "            [\n",
    "                \"gh\", \"issue\", \"view\", str(issue_number),\n",
    "                \"--repo\", repo,\n",
    "                \"--json\", \"number,title,labels,comments,linkedPullRequests\"\n",
    "            ],\n",
    "            capture_output=True, text=True, check=True\n",
    "        )\n",
    "        return json.loads(result.stdout)\n",
    "    except subprocess.CalledProcessError as e:\n",
    "        print(f\"Warning: Failed to fetch Issue #{issue_number}. Skipping.\\n{e.stderr}\")\n",
    "        return None\n"
   ]
  },
  {
   "cell_type": "code",
   "execution_count": 11,
   "id": "b5224b1d",
   "metadata": {},
   "outputs": [
    {
     "name": "stdout",
     "output_type": "stream",
     "text": [
      "Error fetching issue list: Unknown JSON field: \"isPullRequest\"\n",
      "Available fields:\n",
      "  assignees\n",
      "  author\n",
      "  body\n",
      "  closed\n",
      "  closedAt\n",
      "  comments\n",
      "  createdAt\n",
      "  id\n",
      "  labels\n",
      "  milestone\n",
      "  number\n",
      "  projectCards\n",
      "  projectItems\n",
      "  reactionGroups\n",
      "  state\n",
      "  title\n",
      "  updatedAt\n",
      "  url\n",
      "\n"
     ]
    },
    {
     "ename": "TypeError",
     "evalue": "'NoneType' object is not iterable",
     "output_type": "error",
     "traceback": [
      "\u001b[0;31m---------------------------------------------------------------------------\u001b[0m",
      "\u001b[0;31mTypeError\u001b[0m                                 Traceback (most recent call last)",
      "Cell \u001b[0;32mIn[11], line 5\u001b[0m\n\u001b[1;32m      2\u001b[0m issue_numbers \u001b[38;5;241m=\u001b[39m get_open_issue_numbers(repo)\n\u001b[1;32m      3\u001b[0m all_issues \u001b[38;5;241m=\u001b[39m []\n\u001b[0;32m----> 5\u001b[0m \u001b[38;5;28;01mfor\u001b[39;00m issue \u001b[38;5;129;01min\u001b[39;00m issue_numbers:\n\u001b[1;32m      6\u001b[0m     \u001b[38;5;28mprint\u001b[39m(\u001b[38;5;124mf\u001b[39m\u001b[38;5;124m\"\u001b[39m\u001b[38;5;124mFetching details for Issue #\u001b[39m\u001b[38;5;132;01m{\u001b[39;00missue\u001b[38;5;132;01m}\u001b[39;00m\u001b[38;5;124m\"\u001b[39m)\n\u001b[1;32m      7\u001b[0m     details \u001b[38;5;241m=\u001b[39m get_issue_details(repo, issue)\n",
      "\u001b[0;31mTypeError\u001b[0m: 'NoneType' object is not iterable"
     ]
    }
   ],
   "source": [
    "repo = get_repo()\n",
    "issue_numbers = get_open_issue_numbers(repo)\n",
    "all_issues = []\n",
    "\n",
    "for issue in issue_numbers:\n",
    "    print(f\"Fetching details for Issue #{issue}\")\n",
    "    details = get_issue_details(repo, issue)\n",
    "\n",
    "    if details is None:\n",
    "        continue  # Skip issues that couldn't be fetched\n",
    "\n",
    "    # Extract labels (names only)\n",
    "    labels = [label['name'] for label in details.get('labels', [])]\n",
    "\n",
    "    # Extract linked PR URLs\n",
    "    # pull_requests = [pr['url'] for pr in details.get('linkedPullRequests', [])]\n",
    "\n",
    "    # Extract comments\n",
    "    comments = []\n",
    "    for comment in details.get('comments', []):\n",
    "        comments.append({\n",
    "            \"author\": comment.get(\"author\", {}).get(\"login\"),\n",
    "            \"body\": comment.get(\"body\"),\n",
    "            \"createdAt\": comment.get(\"createdAt\")\n",
    "        })\n",
    "\n",
    "    # Assemble final issue record\n",
    "    all_issues.append({\n",
    "        \"issue\": details.get(\"number\"),\n",
    "        \"title\": details.get(\"title\"),\n",
    "        \"labels\": labels,\n",
    "        \"pull_requests\": pull_requests,\n",
    "        \"comments\": comments\n",
    "    })\n",
    "\n",
    "# Save all issues to a JSON file\n",
    "with open(\"issues_with_comments.json\", \"w\") as f:\n",
    "    json.dump(all_issues, f, indent=2)\n",
    "\n",
    "print(f\"\\n✅ Saved {len(all_issues)} issues to issues_with_comments.json\")\n"
   ]
  },
  {
   "cell_type": "code",
   "execution_count": null,
   "id": "58d6cbf3",
   "metadata": {},
   "outputs": [],
   "source": []
  }
 ],
 "metadata": {
  "kernelspec": {
   "display_name": "base",
   "language": "python",
   "name": "python3"
  },
  "language_info": {
   "codemirror_mode": {
    "name": "ipython",
    "version": 3
   },
   "file_extension": ".py",
   "mimetype": "text/x-python",
   "name": "python",
   "nbconvert_exporter": "python",
   "pygments_lexer": "ipython3",
   "version": "3.10.10"
  }
 },
 "nbformat": 4,
 "nbformat_minor": 5
}
