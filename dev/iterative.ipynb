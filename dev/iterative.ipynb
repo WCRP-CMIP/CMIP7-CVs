{
 "cells": [
  {
   "cell_type": "code",
   "execution_count": null,
   "id": "3ea6216a",
   "metadata": {},
   "outputs": [
    {
     "name": "stdout",
     "output_type": "stream",
     "text": [
      "src-data/experiment/amip-p4k.json\n",
      "src-data/experiment/piclim-histall.json\n",
      "src-data/experiment/esm-scen7-l.json\n",
      "src-data/experiment/highres-yr2020.json\n",
      "src-data/experiment/hist-nat.json\n",
      "src-data/experiment/scen7-vlhoc-aq.json\n",
      "src-data/experiment/highressst-p2k-pat.json\n",
      "src-data/experiment/piclim-n2o.json\n",
      "src-data/experiment/esm-hist.json\n",
      "src-data/experiment/piclim-nh3.json\n",
      "src-data/experiment/piclim-voc.json\n",
      "src-data/experiment/esm-flat10-cdr.json\n",
      "src-data/experiment/initialised-prediction-2025-2036.json\n",
      "src-data/experiment/piclim-2xdmsppmoa.json\n",
      "src-data/experiment/abrupt-0p5co2.json\n",
      "src-data/experiment/highressst-p4k-pat.json\n",
      "src-data/experiment/spinup-1950.json\n",
      "src-data/experiment/piclim-hc.json\n",
      "src-data/experiment/control-1950.json\n",
      "src-data/experiment/esm-scen7-vllo-ext.json\n",
      "src-data/experiment/scen7-mc-ext.json\n",
      "src-data/experiment/hist-ghg.json\n",
      "src-data/experiment/esm-scen7-m.json\n",
      "src-data/experiment/piclim-o3.json\n",
      "src-data/experiment/1pctco2.json\n",
      "src-data/experiment/dcppb-forecast-cmip6.json\n",
      "src-data/experiment/hist-1950.json\n",
      "src-data/experiment/piclim-oc.json\n",
      "src-data/experiment/esm-flat10-zec.json\n",
      "src-data/experiment/land-hist.json\n",
      "src-data/experiment/piclim-4xco2.json\n",
      "src-data/experiment/scen7-hc-aq.json\n",
      "src-data/experiment/hist-irr.json\n",
      "src-data/experiment/piclim-2xdust.json\n",
      "src-data/experiment/scen7-vlloc-ext.json\n",
      "src-data/experiment/scen7-mlc.json\n",
      "src-data/experiment/picontrol.json\n",
      "src-data/experiment/hist-pislcf.json\n",
      "src-data/experiment/esm-scen7-m-ext.json\n",
      "src-data/experiment/esm-scen7-l-ext.json\n",
      "src-data/experiment/piclim-2xss.json\n",
      "src-data/experiment/historical.json\n",
      "src-data/experiment/esm-picontrol.json\n",
      "src-data/experiment/piclim-2xwet.json\n",
      "src-data/experiment/scen7-lc-ext.json\n",
      "src-data/experiment/esm-scen7-vlho-aer.json\n",
      "src-data/experiment/hist-noirr.json\n",
      "src-data/experiment/1pctco2-rad.json\n",
      "src-data/experiment/hist-piaer.json\n",
      "src-data/experiment/esm-scen7-vlho.json\n",
      "src-data/experiment/abrupt-4xco2.json\n",
      "src-data/experiment/esm-scen7-vlho-ext.json\n",
      "src-data/experiment/piclim-2xfire.json\n",
      "src-data/experiment/scen7-vlloc.json\n",
      "src-data/experiment/esm-scen7-h.json\n",
      "src-data/experiment/esm-scen7-vlho-aq.json\n",
      "src-data/experiment/piclim-so2.json\n",
      "src-data/experiment/piclim-ods.json\n",
      "src-data/experiment/esm-scen7-h-aer.json\n",
      "src-data/experiment/esm-scen7-h-ext-os.json\n",
      "src-data/experiment/scen7-mc.json\n",
      "src-data/experiment/1pctco2-bgc.json\n",
      "src-data/experiment/scen7-hc-ext-os.json\n",
      "src-data/experiment/esm-scen7-vllo.json\n",
      "src-data/experiment/esm-scen7-h-ext.json\n",
      "src-data/experiment/piclim-aq.json\n",
      "src-data/experiment/amip-p4k-sst-turb.json\n",
      "src-data/experiment/scen7-hc-aer.json\n",
      "src-data/experiment/abrupt-4xco2-1950.json\n",
      "src-data/experiment/scen7-mlc-ext.json\n",
      "src-data/experiment/hist-aer.json\n",
      "src-data/experiment/amip-p4k-sst-rad.json\n",
      "src-data/experiment/abrupt-127k.json\n",
      "src-data/experiment/scen7-vlhoc-ext.json\n",
      "src-data/experiment/esm-up2p0.json\n",
      "src-data/experiment/esm-scen7-ml-ext.json\n",
      "src-data/experiment/hist-piaq.json\n",
      "src-data/experiment/piclim-nox.json\n",
      "src-data/experiment/amip.json\n",
      "src-data/experiment/scen7-hc.json\n",
      "src-data/experiment/esm-scen7-h-aq.json\n",
      "src-data/experiment/scen7-vlhoc-aer.json\n",
      "src-data/experiment/piclim-anthro.json\n",
      "src-data/experiment/esm-flat10.json\n",
      "src-data/experiment/scen7-hc-ext.json\n",
      "src-data/experiment/g7-15k-sai.json\n",
      "src-data/experiment/highressst-present.json\n",
      "src-data/experiment/amip-piforcing.json\n",
      "src-data/experiment/piclim-histaer.json\n",
      "src-data/experiment/highressst-p4k-uni.json\n",
      "src-data/experiment/abrupt-0p5xco2.json\n",
      "src-data/experiment/piclim-ch4.json\n",
      "src-data/experiment/piclim-bc.json\n",
      "src-data/experiment/sspx-slcf.json\n",
      "src-data/experiment/abrupt-2xco2.json\n",
      "src-data/experiment/piclim-2xbvoc.json\n",
      "src-data/experiment/piclim-control.json\n",
      "src-data/experiment/hist-nofire.json\n",
      "src-data/experiment/ligabrupt.json\n",
      "src-data/experiment/scen7-lc.json\n",
      "src-data/experiment/scen7-vlhoc.json\n",
      "src-data/experiment/amip-m4k.json\n",
      "src-data/experiment/piclim-aer.json\n",
      "src-data/experiment/highres-future-scen7-mc.json\n",
      "src-data/experiment/esm-scen7-ml.json\n",
      "src-data/experiment/piclim-p4k.json\n"
     ]
    },
    {
     "ename": "",
     "evalue": "",
     "output_type": "error",
     "traceback": [
      "\u001b[1;31mThe Kernel crashed while executing code in the current cell or a previous cell. \n",
      "\u001b[1;31mPlease review the code in the cell(s) to identify a possible cause of the failure. \n",
      "\u001b[1;31mClick <a href='https://aka.ms/vscodeJupyterKernelCrash'>here</a> for more info. \n",
      "\u001b[1;31mView Jupyter <a href='command:jupyter.viewOutput'>log</a> for further details."
     ]
    }
   ],
   "source": [
    "import json,glob\n",
    "g =glob.glob(\"src-data/experiment/*.json\")\n",
    "\n",
    "for f in g:\n",
    "    data = json.load(open(f))\n",
    "    data['@context'] = '_context_' \n",
    "    json.dump(data,open(f,'w'),indent=4)\n",
    "    print(f)\n",
    "    \n",
    "    "
   ]
  },
  {
   "cell_type": "code",
   "execution_count": 6,
   "id": "cbace782",
   "metadata": {},
   "outputs": [],
   "source": [
    "# "
   ]
  },
  {
   "cell_type": "code",
   "execution_count": null,
   "id": "0e9e8d69",
   "metadata": {},
   "outputs": [],
   "source": []
  },
  {
   "cell_type": "code",
   "execution_count": null,
   "id": "7a30d2c8",
   "metadata": {},
   "outputs": [],
   "source": []
  },
  {
   "cell_type": "code",
   "execution_count": 3,
   "id": "6ac73901",
   "metadata": {},
   "outputs": [],
   "source": [
    "from pyld import jsonld\n",
    "\n",
    "\n",
    "def get(link, compact=True, depth=10):\n",
    "    \"\"\"\n",
    "    Retrieve and resolve a JSON-LD document from a URL.\n",
    "\n",
    "    Args:\n",
    "        link (str): URL of the JSON-LD document.\n",
    "        compact (bool): Whether to compact the final document using the original context.\n",
    "        depth (int): Maximum recursion depth for resolving @id references.\n",
    "\n",
    "    Returns:\n",
    "        dict or list: The fully resolved JSON-LD document.\n",
    "    \"\"\"\n",
    "    expanded = jsonld.expand(link, options={'extractAllScripts': True})\n",
    "    resolved = _resolve_ids(expanded, compact=compact, depth=depth)\n",
    "\n",
    "    if compact:\n",
    "        return jsonld.compact(resolved, link)\n",
    "\n",
    "    return resolved\n",
    "\n",
    "\n",
    "def _resolve_ids(data, compact=True, depth=2):\n",
    "    \"\"\"\n",
    "    Recursively resolve @id references in a JSON-LD structure.\n",
    "\n",
    "    Args:\n",
    "        data (dict or list): The expanded JSON-LD data to process.\n",
    "        compact (bool): Whether to compact merged results when combining data.\n",
    "        depth (int): Remaining depth for recursive resolution.\n",
    "\n",
    "    Returns:\n",
    "        dict or list: JSON-LD data with resolved references.\n",
    "    \"\"\"\n",
    "    if depth <= 0:\n",
    "        return data\n",
    "\n",
    "    if isinstance(data, dict):\n",
    "        if '@id' in data and '@type' not in data and data['@id'].startswith('http'):\n",
    "            try:\n",
    "                # Fetch and resolve linked document\n",
    "                expanded_ref = get(data['@id'], compact=compact, depth=depth - 1)\n",
    "            except jsonld.JsonLdError:\n",
    "                print('\\nWARNING: missing @id:', data['@id'])\n",
    "                expanded_ref = None\n",
    "\n",
    "            if expanded_ref:\n",
    "                if len(data) > 1:\n",
    "                    # Merge current data (minus @id) with resolved reference\n",
    "                    data = {**expanded_ref, **{k: v for k, v in data.items() if k != '@id'}}\n",
    "                    data = jsonld.compact(data, expanded_ref)\n",
    "                else:\n",
    "                    data = expanded_ref\n",
    "\n",
    "        return {key: _resolve_ids(value, compact, depth) for key, value in data.items()}\n",
    "\n",
    "    if isinstance(data, list):\n",
    "        return [_resolve_ids(item, compact, depth) for item in data]\n",
    "\n",
    "    return data  # Base case for primitive values\n"
   ]
  },
  {
   "cell_type": "code",
   "execution_count": 4,
   "id": "53a61e90",
   "metadata": {},
   "outputs": [
    {
     "name": "stdout",
     "output_type": "stream",
     "text": [
      "\n",
      "WARNING: missing @id: https://wcrp-cmip.github.io/CMIP7-CVs/experiment/none\n",
      "\n",
      "WARNING: missing @id: https://wcrp-cmip.github.io/CMIP7-CVs/experiment/none\n",
      "\n",
      "WARNING: missing @id: https://wcrp-cmip.github.io/CMIP7-CVs/experiment/none\n"
     ]
    },
    {
     "ename": "NameError",
     "evalue": "name 'json' is not defined",
     "output_type": "error",
     "traceback": [
      "\u001b[0;31m---------------------------------------------------------------------------\u001b[0m",
      "\u001b[0;31mNameError\u001b[0m                                 Traceback (most recent call last)",
      "Cell \u001b[0;32mIn[4], line 3\u001b[0m\n\u001b[1;32m      1\u001b[0m out \u001b[38;5;241m=\u001b[39m get(\u001b[38;5;124m'\u001b[39m\u001b[38;5;124mcmip7:experiment/scen7-vlhoc\u001b[39m\u001b[38;5;124m'\u001b[39m,compact\u001b[38;5;241m=\u001b[39m\u001b[38;5;28;01mTrue\u001b[39;00m, depth\u001b[38;5;241m=\u001b[39m\u001b[38;5;241m88\u001b[39m)\n\u001b[0;32m----> 3\u001b[0m \u001b[38;5;28mprint\u001b[39m(\u001b[43mjson\u001b[49m\u001b[38;5;241m.\u001b[39mdumps(out,indent\u001b[38;5;241m=\u001b[39m\u001b[38;5;241m8\u001b[39m))\n",
      "\u001b[0;31mNameError\u001b[0m: name 'json' is not defined"
     ]
    }
   ],
   "source": [
    "out = get('cmip7:experiment/scen7-vlhoc',compact=True, depth=88)\n",
    "\n",
    "print(json.dumps(out,indent=8))"
   ]
  },
  {
   "cell_type": "code",
   "execution_count": null,
   "id": "08c9ec36",
   "metadata": {},
   "outputs": [],
   "source": [
    "# rid = _resolve_ids(ld, compact=True, depth=10)"
   ]
  },
  {
   "cell_type": "code",
   "execution_count": null,
   "id": "82fb90ab",
   "metadata": {},
   "outputs": [],
   "source": [
    "# jsonld.compact(rid,{'@context': 'cmip7:experiment/1pctco2',\n",
    "#  'id': 'cmip7:experiment/1pctco2',\n",
    "#  'type': ['wcrp:experiment', 'cmip7']})"
   ]
  },
  {
   "cell_type": "code",
   "execution_count": null,
   "id": "c06100e3",
   "metadata": {},
   "outputs": [],
   "source": [
    "# import json\n",
    "# print(json.dumps(ld,indent=9))"
   ]
  },
  {
   "cell_type": "code",
   "execution_count": null,
   "id": "65193cf9",
   "metadata": {},
   "outputs": [],
   "source": [
    "jsonld.expand('cmip7:experiment/scen7-vlhoc')"
   ]
  },
  {
   "cell_type": "code",
   "execution_count": null,
   "id": "8969200e",
   "metadata": {},
   "outputs": [],
   "source": []
  }
 ],
 "metadata": {
  "kernelspec": {
   "display_name": "base",
   "language": "python",
   "name": "python3"
  },
  "language_info": {
   "codemirror_mode": {
    "name": "ipython",
    "version": 3
   },
   "file_extension": ".py",
   "mimetype": "text/x-python",
   "name": "python",
   "nbconvert_exporter": "python",
   "pygments_lexer": "ipython3",
   "version": "3.10.10"
  }
 },
 "nbformat": 4,
 "nbformat_minor": 5
}
